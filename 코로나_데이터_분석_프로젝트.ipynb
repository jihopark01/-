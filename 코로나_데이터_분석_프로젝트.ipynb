{
 "cells": [
  {
   "cell_type": "markdown",
   "metadata": {
    "id": "nMZCtV8-wUBi"
   },
   "source": [
    "# [Project 1] 코로나 데이터 분석"
   ]
  },
  {
   "cell_type": "markdown",
   "metadata": {
    "id": "q4nVw7MrwUBj"
   },
   "source": [
    "---"
   ]
  },
  {
   "cell_type": "markdown",
   "metadata": {
    "id": "30SKtC7RwUBk"
   },
   "source": [
    "## 프로젝트 목표\n",
    "- 서울시 코로나19 확진자 현황 데이터를 분석하여 유의미한 정보 도출\n",
    "- 탐색적 데이터 분석을 수행하기 위한 데이터 정제, 특성 엔지니어링, 시각화 방법 학습"
   ]
  },
  {
   "cell_type": "markdown",
   "metadata": {
    "id": "DKqVqsuNwUBk"
   },
   "source": [
    "---"
   ]
  },
  {
   "cell_type": "markdown",
   "metadata": {
    "id": "uHvelOrMwUBk"
   },
   "source": [
    "## 프로젝트 목차\n",
    "1. **데이터 읽기:** 코로나 데이터를 불러오고 Dataframe 구조를 확인<br>\n",
    "    1.1. 데이터 불러오기<br>\n",
    "<br> \n",
    "2. **데이터 정제:** 비어 있는 데이터 또는 쓸모 없는 데이터를 삭제<br>\n",
    "    2.1. 비어있는 column 지우기<br>\n",
    "<br>\n",
    "3. **데이터 시각화:** 각 변수 별로 추가적인 정제 또는 feature engineering 과정을 거치고 시각화를 통하여 데이터의 특성 파악<br>\n",
    "    3.1. 확진일 데이터 전처리하기<br>\n",
    "    3.2. 월별 확진자 수 출력<br>\n",
    "    3.3. 8월 일별 확진자 수 출력<br>\n",
    "    3.4. 지역별 확진자 수 출력<br>\n",
    "    3.5. 8월달 지역별 확진자 수 출력<br>\n",
    "    3.6. 월별 관악구 확진자 수 출력<br>\n",
    "    3.7. 서울 지역에서 확진자를 지도에 출력<br>"
   ]
  },
  {
   "cell_type": "markdown",
   "metadata": {
    "id": "lUQhF57GwUBl"
   },
   "source": [
    "---"
   ]
  },
  {
   "cell_type": "markdown",
   "metadata": {
    "id": "t006thVWwUBl"
   },
   "source": [
    "## 데이터 출처\n",
    "-  https://www.data.go.kr/tcs/dss/selectFileDataDetailView.do?publicDataPk=15063273"
   ]
  },
  {
   "cell_type": "markdown",
   "metadata": {
    "id": "yCBC0cvfwUBl"
   },
   "source": [
    "---"
   ]
  },
  {
   "cell_type": "markdown",
   "metadata": {
    "id": "py5kyk7mwUBl"
   },
   "source": [
    "## 프로젝트 개요\n",
    "\n",
    "2020년 초에 발생한 코로나19 바이러스는 세계적으로 대유행하였고 이에 대한 많은 분석이 이루어지고 있습니다. 유행 초기엔 이를 분석할 데이터가 충분하지 않았지만 6개월 이상 지난 지금은 다양한 데이터 기관에서 코로나 관련 데이터를 공공으로 제공하고 있습니다.\n",
    "\n",
    "이번 프로젝트에서는 국내 공공데이터 포털에서 제공하는 `서울시 코로나19 확진자 현황` 데이터를 바탕으로 탐색적 데이터 분석을 수행해보겠습니다. 국내 데이터 중 확진자 비율이 제일 높고 사람이 제일 많은 서울시의 데이터를 선정하였으며, 이를 바탕으로 코로나19의 확진 추이 및 환자 특성에 대해서 데이터를 바탕으로 알아봅시다.\n",
    "\n"
   ]
  },
  {
   "cell_type": "markdown",
   "metadata": {
    "id": "Dy5Q39iIwUBm"
   },
   "source": [
    "---"
   ]
  },
  {
   "cell_type": "markdown",
   "metadata": {
    "id": "E-1xUfi8wUBm"
   },
   "source": [
    " "
   ]
  },
  {
   "cell_type": "markdown",
   "metadata": {
    "id": "r077bdYzwUBm"
   },
   "source": [
    "## 1. 데이터 읽기"
   ]
  },
  {
   "cell_type": "markdown",
   "metadata": {
    "id": "0e9Ht_41wUBm"
   },
   "source": [
    "필요한 패키지 설치 및 `import`한 후 `pandas`를 사용하여 데이터를 읽고 어떠한 데이터가 저장되어 있는지 확인합니다."
   ]
  },
  {
   "cell_type": "markdown",
   "metadata": {},
   "source": [
    "### 1.1. 데이터 불러오기"
   ]
  },
  {
   "cell_type": "code",
   "execution_count": 1,
   "metadata": {
    "id": "VqCenoC3wUBn"
   },
   "outputs": [],
   "source": [
    "import numpy as np \n",
    "import pandas as pd\n",
    "import matplotlib.pyplot as plt\n",
    "import seaborn as sns"
   ]
  },
  {
   "cell_type": "code",
   "execution_count": 2,
   "metadata": {
    "id": "6PeTXSwjwUBn"
   },
   "outputs": [],
   "source": [
    "# pd.read_csv를 통하여 dataframe 형태로 읽어옵니다.\n",
    "corona_all=pd.read_csv(\"./data/서울시 코로나19 확진자 현황.csv\")"
   ]
  },
  {
   "cell_type": "code",
   "execution_count": 3,
   "metadata": {
    "id": "HK1LUrkjwUBn",
    "outputId": "997869ef-2cb9-40a3-ada2-9f75f646ab49",
    "scrolled": true
   },
   "outputs": [
    {
     "data": {
      "text/html": [
       "<div>\n",
       "<style scoped>\n",
       "    .dataframe tbody tr th:only-of-type {\n",
       "        vertical-align: middle;\n",
       "    }\n",
       "\n",
       "    .dataframe tbody tr th {\n",
       "        vertical-align: top;\n",
       "    }\n",
       "\n",
       "    .dataframe thead th {\n",
       "        text-align: right;\n",
       "    }\n",
       "</style>\n",
       "<table border=\"1\" class=\"dataframe\">\n",
       "  <thead>\n",
       "    <tr style=\"text-align: right;\">\n",
       "      <th></th>\n",
       "      <th>연번</th>\n",
       "      <th>확진일</th>\n",
       "      <th>환자번호</th>\n",
       "      <th>국적</th>\n",
       "      <th>환자정보</th>\n",
       "      <th>지역</th>\n",
       "      <th>여행력</th>\n",
       "      <th>접촉력</th>\n",
       "      <th>조치사항</th>\n",
       "      <th>상태</th>\n",
       "      <th>이동경로</th>\n",
       "      <th>등록일</th>\n",
       "      <th>수정일</th>\n",
       "      <th>노출여부</th>\n",
       "    </tr>\n",
       "  </thead>\n",
       "  <tbody>\n",
       "    <tr>\n",
       "      <th>0</th>\n",
       "      <td>5748</td>\n",
       "      <td>10.21.</td>\n",
       "      <td>25530</td>\n",
       "      <td>NaN</td>\n",
       "      <td>NaN</td>\n",
       "      <td>양천구</td>\n",
       "      <td>NaN</td>\n",
       "      <td>감염경로 조사중</td>\n",
       "      <td>NaN</td>\n",
       "      <td>NaN</td>\n",
       "      <td>NaN</td>\n",
       "      <td>2020-10-22 10:58</td>\n",
       "      <td>2020-10-22 10:58</td>\n",
       "      <td>Y</td>\n",
       "    </tr>\n",
       "    <tr>\n",
       "      <th>1</th>\n",
       "      <td>5747</td>\n",
       "      <td>10.21.</td>\n",
       "      <td>25528</td>\n",
       "      <td>NaN</td>\n",
       "      <td>NaN</td>\n",
       "      <td>강동구</td>\n",
       "      <td>NaN</td>\n",
       "      <td>강남서초 지인모임</td>\n",
       "      <td>NaN</td>\n",
       "      <td>NaN</td>\n",
       "      <td>NaN</td>\n",
       "      <td>2020-10-22 10:58</td>\n",
       "      <td>2020-10-22 10:58</td>\n",
       "      <td>Y</td>\n",
       "    </tr>\n",
       "    <tr>\n",
       "      <th>2</th>\n",
       "      <td>5746</td>\n",
       "      <td>10.21.</td>\n",
       "      <td>25525</td>\n",
       "      <td>NaN</td>\n",
       "      <td>NaN</td>\n",
       "      <td>강남구</td>\n",
       "      <td>NaN</td>\n",
       "      <td>기타 확진자 접촉</td>\n",
       "      <td>NaN</td>\n",
       "      <td>NaN</td>\n",
       "      <td>NaN</td>\n",
       "      <td>2020-10-22 10:58</td>\n",
       "      <td>2020-10-22 10:58</td>\n",
       "      <td>Y</td>\n",
       "    </tr>\n",
       "    <tr>\n",
       "      <th>3</th>\n",
       "      <td>5745</td>\n",
       "      <td>10.21.</td>\n",
       "      <td>25517</td>\n",
       "      <td>NaN</td>\n",
       "      <td>NaN</td>\n",
       "      <td>관악구</td>\n",
       "      <td>NaN</td>\n",
       "      <td>감염경로 조사중</td>\n",
       "      <td>NaN</td>\n",
       "      <td>NaN</td>\n",
       "      <td>NaN</td>\n",
       "      <td>2020-10-22 10:58</td>\n",
       "      <td>2020-10-22 10:58</td>\n",
       "      <td>Y</td>\n",
       "    </tr>\n",
       "    <tr>\n",
       "      <th>4</th>\n",
       "      <td>5744</td>\n",
       "      <td>10.21.</td>\n",
       "      <td>25504</td>\n",
       "      <td>NaN</td>\n",
       "      <td>NaN</td>\n",
       "      <td>관악구</td>\n",
       "      <td>NaN</td>\n",
       "      <td>기타 확진자 접촉</td>\n",
       "      <td>NaN</td>\n",
       "      <td>NaN</td>\n",
       "      <td>NaN</td>\n",
       "      <td>2020-10-22 10:58</td>\n",
       "      <td>2020-10-22 10:58</td>\n",
       "      <td>Y</td>\n",
       "    </tr>\n",
       "  </tbody>\n",
       "</table>\n",
       "</div>"
      ],
      "text/plain": [
       "     연번     확진일   환자번호  국적  환자정보   지역  여행력        접촉력  조치사항   상태 이동경로   \n",
       "0  5748  10.21.  25530 NaN   NaN  양천구  NaN   감염경로 조사중   NaN  NaN  NaN  \\\n",
       "1  5747  10.21.  25528 NaN   NaN  강동구  NaN  강남서초 지인모임   NaN  NaN  NaN   \n",
       "2  5746  10.21.  25525 NaN   NaN  강남구  NaN  기타 확진자 접촉   NaN  NaN  NaN   \n",
       "3  5745  10.21.  25517 NaN   NaN  관악구  NaN   감염경로 조사중   NaN  NaN  NaN   \n",
       "4  5744  10.21.  25504 NaN   NaN  관악구  NaN  기타 확진자 접촉   NaN  NaN  NaN   \n",
       "\n",
       "                등록일               수정일 노출여부  \n",
       "0  2020-10-22 10:58  2020-10-22 10:58    Y  \n",
       "1  2020-10-22 10:58  2020-10-22 10:58    Y  \n",
       "2  2020-10-22 10:58  2020-10-22 10:58    Y  \n",
       "3  2020-10-22 10:58  2020-10-22 10:58    Y  \n",
       "4  2020-10-22 10:58  2020-10-22 10:58    Y  "
      ]
     },
     "execution_count": 3,
     "metadata": {},
     "output_type": "execute_result"
    }
   ],
   "source": [
    "# 상위 5개 데이터를 출력합니다.\n",
    "corona_all.head()"
   ]
  },
  {
   "cell_type": "code",
   "execution_count": 4,
   "metadata": {},
   "outputs": [
    {
     "data": {
      "text/html": [
       "<div>\n",
       "<style scoped>\n",
       "    .dataframe tbody tr th:only-of-type {\n",
       "        vertical-align: middle;\n",
       "    }\n",
       "\n",
       "    .dataframe tbody tr th {\n",
       "        vertical-align: top;\n",
       "    }\n",
       "\n",
       "    .dataframe thead th {\n",
       "        text-align: right;\n",
       "    }\n",
       "</style>\n",
       "<table border=\"1\" class=\"dataframe\">\n",
       "  <thead>\n",
       "    <tr style=\"text-align: right;\">\n",
       "      <th></th>\n",
       "      <th>연번</th>\n",
       "      <th>확진일</th>\n",
       "      <th>환자번호</th>\n",
       "      <th>국적</th>\n",
       "      <th>환자정보</th>\n",
       "      <th>지역</th>\n",
       "      <th>여행력</th>\n",
       "      <th>접촉력</th>\n",
       "      <th>조치사항</th>\n",
       "      <th>상태</th>\n",
       "      <th>이동경로</th>\n",
       "      <th>등록일</th>\n",
       "      <th>수정일</th>\n",
       "      <th>노출여부</th>\n",
       "    </tr>\n",
       "  </thead>\n",
       "  <tbody>\n",
       "    <tr>\n",
       "      <th>5743</th>\n",
       "      <td>5</td>\n",
       "      <td>1.31.</td>\n",
       "      <td>9</td>\n",
       "      <td>NaN</td>\n",
       "      <td>NaN</td>\n",
       "      <td>성북구</td>\n",
       "      <td>NaN</td>\n",
       "      <td>#5 접촉</td>\n",
       "      <td>NaN</td>\n",
       "      <td>퇴원</td>\n",
       "      <td>이동경로 공개기간 경과</td>\n",
       "      <td>2020-10-22 10:58</td>\n",
       "      <td>2020-10-23 9:00</td>\n",
       "      <td>Y</td>\n",
       "    </tr>\n",
       "    <tr>\n",
       "      <th>5744</th>\n",
       "      <td>4</td>\n",
       "      <td>1.30.</td>\n",
       "      <td>7</td>\n",
       "      <td>NaN</td>\n",
       "      <td>NaN</td>\n",
       "      <td>마포구</td>\n",
       "      <td>중국 우한시</td>\n",
       "      <td>해외 접촉</td>\n",
       "      <td>NaN</td>\n",
       "      <td>퇴원</td>\n",
       "      <td>이동경로 공개기간 경과</td>\n",
       "      <td>2020-10-22 10:58</td>\n",
       "      <td>2020-10-23 9:00</td>\n",
       "      <td>Y</td>\n",
       "    </tr>\n",
       "    <tr>\n",
       "      <th>5745</th>\n",
       "      <td>3</td>\n",
       "      <td>1.30.</td>\n",
       "      <td>6</td>\n",
       "      <td>NaN</td>\n",
       "      <td>NaN</td>\n",
       "      <td>종로구</td>\n",
       "      <td>NaN</td>\n",
       "      <td>#3 접촉</td>\n",
       "      <td>NaN</td>\n",
       "      <td>퇴원</td>\n",
       "      <td>이동경로 공개기간 경과</td>\n",
       "      <td>2020-10-22 10:58</td>\n",
       "      <td>2020-10-23 9:00</td>\n",
       "      <td>Y</td>\n",
       "    </tr>\n",
       "    <tr>\n",
       "      <th>5746</th>\n",
       "      <td>2</td>\n",
       "      <td>1.30.</td>\n",
       "      <td>5</td>\n",
       "      <td>NaN</td>\n",
       "      <td>NaN</td>\n",
       "      <td>중랑구</td>\n",
       "      <td>중국 우한시</td>\n",
       "      <td>해외 접촉</td>\n",
       "      <td>NaN</td>\n",
       "      <td>퇴원</td>\n",
       "      <td>이동경로 공개기간 경과</td>\n",
       "      <td>2020-10-22 10:58</td>\n",
       "      <td>2020-10-23 9:00</td>\n",
       "      <td>Y</td>\n",
       "    </tr>\n",
       "    <tr>\n",
       "      <th>5747</th>\n",
       "      <td>1</td>\n",
       "      <td>1.24.</td>\n",
       "      <td>2</td>\n",
       "      <td>NaN</td>\n",
       "      <td>NaN</td>\n",
       "      <td>강서구</td>\n",
       "      <td>중국 우한시</td>\n",
       "      <td>해외 접촉</td>\n",
       "      <td>NaN</td>\n",
       "      <td>퇴원</td>\n",
       "      <td>이동경로 공개기간 경과</td>\n",
       "      <td>2020-10-22 10:58</td>\n",
       "      <td>2020-10-23 9:00</td>\n",
       "      <td>Y</td>\n",
       "    </tr>\n",
       "  </tbody>\n",
       "</table>\n",
       "</div>"
      ],
      "text/plain": [
       "      연번    확진일  환자번호  국적  환자정보   지역     여행력    접촉력  조치사항  상태          이동경로   \n",
       "5743   5  1.31.     9 NaN   NaN  성북구     NaN  #5 접촉   NaN  퇴원  이동경로 공개기간 경과  \\\n",
       "5744   4  1.30.     7 NaN   NaN  마포구  중국 우한시  해외 접촉   NaN  퇴원  이동경로 공개기간 경과   \n",
       "5745   3  1.30.     6 NaN   NaN  종로구     NaN  #3 접촉   NaN  퇴원  이동경로 공개기간 경과   \n",
       "5746   2  1.30.     5 NaN   NaN  중랑구  중국 우한시  해외 접촉   NaN  퇴원  이동경로 공개기간 경과   \n",
       "5747   1  1.24.     2 NaN   NaN  강서구  중국 우한시  해외 접촉   NaN  퇴원  이동경로 공개기간 경과   \n",
       "\n",
       "                   등록일              수정일 노출여부  \n",
       "5743  2020-10-22 10:58  2020-10-23 9:00    Y  \n",
       "5744  2020-10-22 10:58  2020-10-23 9:00    Y  \n",
       "5745  2020-10-22 10:58  2020-10-23 9:00    Y  \n",
       "5746  2020-10-22 10:58  2020-10-23 9:00    Y  \n",
       "5747  2020-10-22 10:58  2020-10-23 9:00    Y  "
      ]
     },
     "execution_count": 4,
     "metadata": {},
     "output_type": "execute_result"
    }
   ],
   "source": [
    "corona_all.tail()"
   ]
  },
  {
   "cell_type": "code",
   "execution_count": 5,
   "metadata": {
    "id": "n_DL99rxwUBo",
    "outputId": "732824cf-c5e1-4f88-9ba7-6dadfc4e081f"
   },
   "outputs": [
    {
     "name": "stdout",
     "output_type": "stream",
     "text": [
      "<class 'pandas.core.frame.DataFrame'>\n",
      "RangeIndex: 5748 entries, 0 to 5747\n",
      "Data columns (total 14 columns):\n",
      " #   Column  Non-Null Count  Dtype  \n",
      "---  ------  --------------  -----  \n",
      " 0   연번      5748 non-null   int64  \n",
      " 1   확진일     5748 non-null   object \n",
      " 2   환자번호    5748 non-null   int64  \n",
      " 3   국적      0 non-null      float64\n",
      " 4   환자정보    0 non-null      float64\n",
      " 5   지역      5748 non-null   object \n",
      " 6   여행력     459 non-null    object \n",
      " 7   접촉력     5748 non-null   object \n",
      " 8   조치사항    0 non-null      float64\n",
      " 9   상태      5357 non-null   object \n",
      " 10  이동경로    5520 non-null   object \n",
      " 11  등록일     5748 non-null   object \n",
      " 12  수정일     5748 non-null   object \n",
      " 13  노출여부    5748 non-null   object \n",
      "dtypes: float64(3), int64(2), object(9)\n",
      "memory usage: 628.8+ KB\n"
     ]
    }
   ],
   "source": [
    "# dataframe 정보를 요약하여 출력합니다. \n",
    "corona_all.info()"
   ]
  },
  {
   "cell_type": "markdown",
   "metadata": {
    "id": "jWknASZ2wUBo"
   },
   "source": [
    " "
   ]
  },
  {
   "cell_type": "markdown",
   "metadata": {},
   "source": [
    "---"
   ]
  },
  {
   "cell_type": "markdown",
   "metadata": {
    "id": "0K4t-JjpwUBo"
   },
   "source": [
    "## 2. 데이터 정제"
   ]
  },
  {
   "cell_type": "markdown",
   "metadata": {
    "id": "mQsjxTEFwUBo"
   },
   "source": [
    "데이터를 읽고 확인했다면 결측값(missing data), 이상치(outlier)를 처리하는 데이터 정제 과정을 수행하여 봅시다."
   ]
  },
  {
   "cell_type": "markdown",
   "metadata": {
    "id": "wM4dLaHywUBp"
   },
   "source": [
    "### 2.1. 비어있는 column 지우기"
   ]
  },
  {
   "cell_type": "markdown",
   "metadata": {
    "id": "IlesnjwFwUBp"
   },
   "source": [
    "`corona_all.info()` 코드를 통하여 `국적`, `환자정보`, `조치사항` 에 해당하는 데이터가 존재하지 않는 것을 알 수 있습니다.\n",
    "\n",
    "`dataframe.drop()`를 사용하여 불필요한 `국적`, `환자정보`, `조치사항` 의 column 데이터를 삭제하고 이 dataframe을 `corona_del_col`에 저장해 봅시다."
   ]
  },
  {
   "cell_type": "code",
   "execution_count": 6,
   "metadata": {
    "id": "E11LKG2mwUBp"
   },
   "outputs": [],
   "source": [
    "# drop 함수를 사용하여 국적, 환자정보, 조치사항 coulmn 데이터를 삭제합니다.\n",
    "corona_del_col = corona_all.drop(columns = ['국적','환자정보','조치사항'])"
   ]
  },
  {
   "cell_type": "code",
   "execution_count": 7,
   "metadata": {
    "id": "nkiFwimHwUBp",
    "outputId": "f15efddc-58f2-4576-dfbc-f121cd6b917c"
   },
   "outputs": [
    {
     "name": "stdout",
     "output_type": "stream",
     "text": [
      "<class 'pandas.core.frame.DataFrame'>\n",
      "RangeIndex: 5748 entries, 0 to 5747\n",
      "Data columns (total 11 columns):\n",
      " #   Column  Non-Null Count  Dtype \n",
      "---  ------  --------------  ----- \n",
      " 0   연번      5748 non-null   int64 \n",
      " 1   확진일     5748 non-null   object\n",
      " 2   환자번호    5748 non-null   int64 \n",
      " 3   지역      5748 non-null   object\n",
      " 4   여행력     459 non-null    object\n",
      " 5   접촉력     5748 non-null   object\n",
      " 6   상태      5357 non-null   object\n",
      " 7   이동경로    5520 non-null   object\n",
      " 8   등록일     5748 non-null   object\n",
      " 9   수정일     5748 non-null   object\n",
      " 10  노출여부    5748 non-null   object\n",
      "dtypes: int64(2), object(9)\n",
      "memory usage: 494.1+ KB\n"
     ]
    }
   ],
   "source": [
    "# 정제 처리된 dataframe 정보를 출력합니다.\n",
    "corona_del_col.info()"
   ]
  },
  {
   "cell_type": "markdown",
   "metadata": {},
   "source": [
    "---"
   ]
  },
  {
   "cell_type": "markdown",
   "metadata": {
    "id": "2CFELljJwUBp"
   },
   "source": [
    "## 3. 데이터 시각화"
   ]
  },
  {
   "cell_type": "markdown",
   "metadata": {
    "id": "J-FS9HekwUBq"
   },
   "source": [
    "데이터 정제를 완료한 `corona_del_col` 데이터를 바탕으로 각 column의 변수별로 어떠한 데이터 분포를 하고 있는지 시각화를 통하여 알아봅시다."
   ]
  },
  {
   "cell_type": "markdown",
   "metadata": {
    "id": "5m2_oHZUwUBq"
   },
   "source": [
    "### 3.1. 확진일 데이터 전처리하기"
   ]
  },
  {
   "cell_type": "markdown",
   "metadata": {
    "id": "N2485-d6wUBq"
   },
   "source": [
    "`확진일` 데이터를 간단히 출력해보면 `월.일` 형태의 날짜 형식임을 알 수 있습니다.\n",
    "\n",
    "월별, 일별 분석을 위해서는 문자열 형식의 데이터를 나누어 숫자 형 데이터로 변환해 보겠습니다."
   ]
  },
  {
   "cell_type": "code",
   "execution_count": 8,
   "metadata": {
    "id": "IajTQUw5wUBq",
    "outputId": "f9f536a6-5e45-493a-f9e6-3673597fff78"
   },
   "outputs": [
    {
     "data": {
      "text/plain": [
       "0       10.21.\n",
       "1       10.21.\n",
       "2       10.21.\n",
       "3       10.21.\n",
       "4       10.21.\n",
       "         ...  \n",
       "5743     1.31.\n",
       "5744     1.30.\n",
       "5745     1.30.\n",
       "5746     1.30.\n",
       "5747     1.24.\n",
       "Name: 확진일, Length: 5748, dtype: object"
      ]
     },
     "execution_count": 8,
     "metadata": {},
     "output_type": "execute_result"
    }
   ],
   "source": [
    "corona_del_col['확진일']"
   ]
  },
  {
   "cell_type": "markdown",
   "metadata": {
    "id": "bcO6uQgLwUBq"
   },
   "source": [
    "#### `확진일` 데이터를 `month`, `day` 데이터로 나누기"
   ]
  },
  {
   "cell_type": "markdown",
   "metadata": {
    "id": "QBCA4y3NwUBq"
   },
   "source": [
    "`확진일`에 저장된 문자열 데이터를 나누어 `month`, `day` column에 문자 형태로 저장해 봅시다."
   ]
  },
  {
   "cell_type": "code",
   "execution_count": 9,
   "metadata": {
    "id": "n08ToZjawUBq"
   },
   "outputs": [],
   "source": [
    "# dataframe에 추가하기 전, 임시로 데이터를 저장해 둘 list를 선언합니다.\n",
    "month = []\n",
    "day = []\n",
    "\n",
    "for data in corona_del_col['확진일']:\n",
    "    # split 함수를 사용하여 월, 일을 나누어 list에 저장합니다.\n",
    "    month.append(data.split('.')[0])\n",
    "    day.append(data.split('.')[1])"
   ]
  },
  {
   "cell_type": "code",
   "execution_count": 13,
   "metadata": {
    "id": "eb2aZuVKwUBq",
    "outputId": "47c18f65-2fd8-47d8-f4f0-5069bcba5886",
    "scrolled": true
   },
   "outputs": [
    {
     "data": {
      "text/plain": [
       "0       21\n",
       "1       21\n",
       "2       21\n",
       "3       21\n",
       "4       21\n",
       "        ..\n",
       "5743    31\n",
       "5744    30\n",
       "5745    30\n",
       "5746    30\n",
       "5747    24\n",
       "Name: day, Length: 5748, dtype: int64"
      ]
     },
     "execution_count": 13,
     "metadata": {},
     "output_type": "execute_result"
    }
   ],
   "source": [
    "# corona_del_col에 `month`, `day` column을 생성하며 동시에 list에 임시 저장된 데이터를 입력합니다.\n",
    "corona_del_col['month'] = month\n",
    "corona_del_col['day'] = day\n",
    "\n",
    "corona_del_col['month'].astype('int64')\n",
    "corona_del_col['day'].astype('int64')"
   ]
  },
  {
   "cell_type": "markdown",
   "metadata": {
    "id": "41eTsaWRwUBr"
   },
   "source": [
    " "
   ]
  },
  {
   "cell_type": "markdown",
   "metadata": {
    "id": "uA8fZJAuwUBr"
   },
   "source": [
    "### 3.2. 월별 확진자 수 출력"
   ]
  },
  {
   "cell_type": "markdown",
   "metadata": {
    "id": "jrFFhoc0wUBr"
   },
   "source": [
    "나누어진 `month`의 데이터를 바탕으로 달별 확진자 수를 막대그래프로 출력해 보겠습니다."
   ]
  },
  {
   "cell_type": "code",
   "execution_count": 14,
   "metadata": {
    "id": "ewZc1bpQwUBr",
    "outputId": "87724819-7be4-4cfa-8475-285ef41aa0c1"
   },
   "outputs": [
    {
     "data": {
      "text/plain": [
       "['1', '2', '3', '4', '5', '6', '7', '8', '9', '10']"
      ]
     },
     "execution_count": 14,
     "metadata": {},
     "output_type": "execute_result"
    }
   ],
   "source": [
    "# 그래프에서 x축의 순서를 정리하기 위하여 order list를 생성합니다.\n",
    "order = []\n",
    "for i in range(1,11):\n",
    "    order.append(str(i))\n",
    "\n",
    "order"
   ]
  },
  {
   "cell_type": "code",
   "execution_count": 15,
   "metadata": {
    "id": "N6hC5IH5wUBr",
    "outputId": "1646539d-b01f-47bd-e51c-cff1625f50ea",
    "scrolled": true
   },
   "outputs": [
    {
     "data": {
      "image/png": "[encoded data removed]",
      "text/plain": [
       "<Figure size 1000x500 with 1 Axes>"
      ]
     },
     "metadata": {},
     "output_type": "display_data"
    }
   ],
   "source": [
    "# 그래프의 사이즈를 조절합니다.\n",
    "plt.figure(figsize=(10,5))\n",
    "\n",
    "# seaborn의 countplot 함수를 사용하여 출력합니다.\n",
    "sns.set(style=\"darkgrid\")\n",
    "ax = sns.countplot(x=\"month\", data=corona_del_col, palette=\"Set2\", order = order)"
   ]
  },
  {
   "cell_type": "code",
   "execution_count": 16,
   "metadata": {
    "id": "xNTb9pqxwUBr",
    "outputId": "e347dbd9-d1bd-4662-bf11-3ba2807b5a14",
    "scrolled": true
   },
   "outputs": [
    {
     "data": {
      "text/plain": [
       "<Axes: xlabel='month'>"
      ]
     },
     "execution_count": 16,
     "metadata": {},
     "output_type": "execute_result"
    },
    {
     "data": {
      "image/png": "[encoded data removed]",
      "text/plain": [
       "<Figure size 640x480 with 1 Axes>"
      ]
     },
     "metadata": {},
     "output_type": "display_data"
    }
   ],
   "source": [
    "# series의 plot 함수를 사용한 출력 방법도 있습니다.\n",
    "corona_del_col['month'].value_counts().plot(kind='bar')"
   ]
  },
  {
   "cell_type": "markdown",
   "metadata": {
    "id": "0_jqBxOfwUBs"
   },
   "source": [
    " "
   ]
  },
  {
   "cell_type": "code",
   "execution_count": 17,
   "metadata": {
    "id": "T0wfG_uHwUBs",
    "outputId": "9e8ddf92-c057-4945-9ac4-1b818901ecc0"
   },
   "outputs": [
    {
     "data": {
      "text/plain": [
       "month\n",
       "8     2416\n",
       "9     1304\n",
       "6      460\n",
       "10     425\n",
       "3      391\n",
       "7      281\n",
       "5      228\n",
       "4      156\n",
       "2       80\n",
       "1        7\n",
       "Name: count, dtype: int64"
      ]
     },
     "execution_count": 17,
     "metadata": {},
     "output_type": "execute_result"
    }
   ],
   "source": [
    "# value_counts()는 각 데이터를 세어서 내림차순으로 정리하는 함수입니다.\n",
    "corona_del_col['month'].value_counts()"
   ]
  },
  {
   "cell_type": "markdown",
   "metadata": {
    "id": "-Pny9-f0wUBs"
   },
   "source": [
    "### 3.3. 8월달 일별 확진자 수 출력"
   ]
  },
  {
   "cell_type": "markdown",
   "metadata": {
    "id": "dwBFEmHPwUBs"
   },
   "source": [
    "월별 확진자 수를 출력해보면 알 수 있듯이 8월에 확진자 수가 가장 많았습니다.\n",
    "\n",
    "이번엔 8월 동안 확진자 수가 어떻게 늘었는지 일별 확진자 수를 막대그래프로 출력해 봅시다."
   ]
  },
  {
   "cell_type": "code",
   "execution_count": 18,
   "metadata": {
    "id": "1JuAxzYNwUBs",
    "outputId": "9d9b780a-627e-4a19-db18-48080486a64c",
    "scrolled": true
   },
   "outputs": [
    {
     "data": {
      "text/plain": [
       "['1',\n",
       " '2',\n",
       " '3',\n",
       " '4',\n",
       " '5',\n",
       " '6',\n",
       " '7',\n",
       " '8',\n",
       " '9',\n",
       " '10',\n",
       " '11',\n",
       " '12',\n",
       " '13',\n",
       " '14',\n",
       " '15',\n",
       " '16',\n",
       " '17',\n",
       " '18',\n",
       " '19',\n",
       " '20',\n",
       " '21',\n",
       " '22',\n",
       " '23',\n",
       " '24',\n",
       " '25',\n",
       " '26',\n",
       " '27',\n",
       " '28',\n",
       " '29',\n",
       " '30',\n",
       " '31']"
      ]
     },
     "execution_count": 18,
     "metadata": {},
     "output_type": "execute_result"
    }
   ],
   "source": [
    "# 그래프에서 x축의 순서를 정리하기 위하여 order list를 생성합니다.\n",
    "order2 = []\n",
    "for i in range(1,32):\n",
    "    \n",
    "    order2.append(str(i))\n",
    "\n",
    "order2"
   ]
  },
  {
   "cell_type": "code",
   "execution_count": 19,
   "metadata": {
    "id": "vGX6fdK_wUBs",
    "outputId": "459f9310-c324-4cc1-ac40-5c5e3fbdda85"
   },
   "outputs": [
    {
     "data": {
      "image/png": "[encoded data removed]",
      "text/plain": [
       "<Figure size 2000x1000 with 1 Axes>"
      ]
     },
     "metadata": {},
     "output_type": "display_data"
    }
   ],
   "source": [
    "# seaborn의 countplot 함수를 사용하여 출력합니다.\n",
    "plt.figure(figsize=(20,10))\n",
    "#styleset\n",
    "sns.set(style=\"darkgrid\")\n",
    "ax = sns.countplot(x=\"day\", data=corona_del_col[corona_del_col['month'] == '8'], palette=\"rocket_r\", order = order2)"
   ]
  },
  {
   "cell_type": "markdown",
   "metadata": {
    "id": "1Xn302wvwUBt"
   },
   "source": [
    "#### 퀴즈 1. 8월 평균 일별 확진자 수를 구하세요. (8월 총 확진자/31일)"
   ]
  },
  {
   "cell_type": "code",
   "execution_count": 33,
   "metadata": {
    "id": "DVpI2nEOwUBt"
   },
   "outputs": [
    {
     "data": {
      "text/plain": [
       "day\n",
       "29    167\n",
       "27    160\n",
       "26    157\n",
       "18    151\n",
       "15    146\n",
       "22    143\n",
       "24    136\n",
       "19    135\n",
       "17    132\n",
       "21    128\n",
       "20    126\n",
       "28    118\n",
       "25    116\n",
       "31    104\n",
       "23     98\n",
       "16     91\n",
       "14     73\n",
       "30     70\n",
       "13     33\n",
       "12     26\n",
       "7      17\n",
       "11     15\n",
       "8      13\n",
       "9      13\n",
       "6       9\n",
       "5       9\n",
       "3       9\n",
       "10      6\n",
       "4       6\n",
       "2       5\n",
       "1       4\n",
       "Name: count, dtype: int64"
      ]
     },
     "execution_count": 33,
     "metadata": {},
     "output_type": "execute_result"
    }
   ],
   "source": [
    "#avg_Aug = corona_del_col['month'].value_counts()[0]/31\n",
    "#avg_Aug \n",
    "corona_del_col[corona_del_col['month']==\"8\"]['day'].value_counts()"
   ]
  },
  {
   "cell_type": "code",
   "execution_count": 29,
   "metadata": {
    "id": "xL0MnBL9wUBt"
   },
   "outputs": [
    {
     "data": {
      "text/plain": [
       "77.93548387096774"
      ]
     },
     "execution_count": 29,
     "metadata": {},
     "output_type": "execute_result"
    }
   ],
   "source": [
    "# 8월 평균 확진자 수를 구하여 quiz_1 변수에 저장합니다.\n",
    "# float 형 상수값으로 저장합니다.\n",
    "quiz_1 = corona_del_col[corona_del_col['month']==\"8\"]['day'].value_counts().mean()\n",
    "quiz_1"
   ]
  },
  {
   "cell_type": "markdown",
   "metadata": {
    "id": "aw4hNYmOwUBt"
   },
   "source": [
    " "
   ]
  },
  {
   "cell_type": "markdown",
   "metadata": {
    "id": "CFeexAklwUBt"
   },
   "source": [
    "### 3.4. 지역별 확진자 수 출력"
   ]
  },
  {
   "cell_type": "markdown",
   "metadata": {
    "id": "lfcwtG2vwUBt"
   },
   "source": [
    "`지역` 데이터를 간단히 출력해보면 `oo구` 형태의 문자열 데이터임을 알 수 있습니다."
   ]
  },
  {
   "cell_type": "code",
   "execution_count": 34,
   "metadata": {
    "id": "GWM87FcSwUBt",
    "outputId": "bc1032f9-5c90-4c6a-f47f-423b2db72076"
   },
   "outputs": [
    {
     "data": {
      "text/plain": [
       "0       양천구\n",
       "1       강동구\n",
       "2       강남구\n",
       "3       관악구\n",
       "4       관악구\n",
       "       ... \n",
       "5743    성북구\n",
       "5744    마포구\n",
       "5745    종로구\n",
       "5746    중랑구\n",
       "5747    강서구\n",
       "Name: 지역, Length: 5748, dtype: object"
      ]
     },
     "execution_count": 34,
     "metadata": {},
     "output_type": "execute_result"
    }
   ],
   "source": [
    "corona_del_col['지역']"
   ]
  },
  {
   "cell_type": "code",
   "execution_count": 37,
   "metadata": {},
   "outputs": [
    {
     "data": {
      "text/html": [
       "<div>\n",
       "<style scoped>\n",
       "    .dataframe tbody tr th:only-of-type {\n",
       "        vertical-align: middle;\n",
       "    }\n",
       "\n",
       "    .dataframe tbody tr th {\n",
       "        vertical-align: top;\n",
       "    }\n",
       "\n",
       "    .dataframe thead th {\n",
       "        text-align: right;\n",
       "    }\n",
       "</style>\n",
       "<table border=\"1\" class=\"dataframe\">\n",
       "  <thead>\n",
       "    <tr style=\"text-align: right;\">\n",
       "      <th></th>\n",
       "      <th>연번</th>\n",
       "      <th>확진일</th>\n",
       "      <th>환자번호</th>\n",
       "      <th>지역</th>\n",
       "      <th>여행력</th>\n",
       "      <th>접촉력</th>\n",
       "      <th>상태</th>\n",
       "      <th>이동경로</th>\n",
       "      <th>등록일</th>\n",
       "      <th>수정일</th>\n",
       "      <th>노출여부</th>\n",
       "      <th>month</th>\n",
       "      <th>day</th>\n",
       "    </tr>\n",
       "  </thead>\n",
       "  <tbody>\n",
       "    <tr>\n",
       "      <th>0</th>\n",
       "      <td>5748</td>\n",
       "      <td>10.21.</td>\n",
       "      <td>25530</td>\n",
       "      <td>양천구</td>\n",
       "      <td>NaN</td>\n",
       "      <td>감염경로 조사중</td>\n",
       "      <td>NaN</td>\n",
       "      <td>NaN</td>\n",
       "      <td>2020-10-22 10:58</td>\n",
       "      <td>2020-10-22 10:58</td>\n",
       "      <td>Y</td>\n",
       "      <td>10</td>\n",
       "      <td>21</td>\n",
       "    </tr>\n",
       "    <tr>\n",
       "      <th>1</th>\n",
       "      <td>5747</td>\n",
       "      <td>10.21.</td>\n",
       "      <td>25528</td>\n",
       "      <td>강동구</td>\n",
       "      <td>NaN</td>\n",
       "      <td>강남서초 지인모임</td>\n",
       "      <td>NaN</td>\n",
       "      <td>NaN</td>\n",
       "      <td>2020-10-22 10:58</td>\n",
       "      <td>2020-10-22 10:58</td>\n",
       "      <td>Y</td>\n",
       "      <td>10</td>\n",
       "      <td>21</td>\n",
       "    </tr>\n",
       "    <tr>\n",
       "      <th>2</th>\n",
       "      <td>5746</td>\n",
       "      <td>10.21.</td>\n",
       "      <td>25525</td>\n",
       "      <td>강남구</td>\n",
       "      <td>NaN</td>\n",
       "      <td>기타 확진자 접촉</td>\n",
       "      <td>NaN</td>\n",
       "      <td>NaN</td>\n",
       "      <td>2020-10-22 10:58</td>\n",
       "      <td>2020-10-22 10:58</td>\n",
       "      <td>Y</td>\n",
       "      <td>10</td>\n",
       "      <td>21</td>\n",
       "    </tr>\n",
       "    <tr>\n",
       "      <th>3</th>\n",
       "      <td>5745</td>\n",
       "      <td>10.21.</td>\n",
       "      <td>25517</td>\n",
       "      <td>관악구</td>\n",
       "      <td>NaN</td>\n",
       "      <td>감염경로 조사중</td>\n",
       "      <td>NaN</td>\n",
       "      <td>NaN</td>\n",
       "      <td>2020-10-22 10:58</td>\n",
       "      <td>2020-10-22 10:58</td>\n",
       "      <td>Y</td>\n",
       "      <td>10</td>\n",
       "      <td>21</td>\n",
       "    </tr>\n",
       "    <tr>\n",
       "      <th>4</th>\n",
       "      <td>5744</td>\n",
       "      <td>10.21.</td>\n",
       "      <td>25504</td>\n",
       "      <td>관악구</td>\n",
       "      <td>NaN</td>\n",
       "      <td>기타 확진자 접촉</td>\n",
       "      <td>NaN</td>\n",
       "      <td>NaN</td>\n",
       "      <td>2020-10-22 10:58</td>\n",
       "      <td>2020-10-22 10:58</td>\n",
       "      <td>Y</td>\n",
       "      <td>10</td>\n",
       "      <td>21</td>\n",
       "    </tr>\n",
       "    <tr>\n",
       "      <th>5</th>\n",
       "      <td>5743</td>\n",
       "      <td>10.21.</td>\n",
       "      <td>25505</td>\n",
       "      <td>구로구</td>\n",
       "      <td>NaN</td>\n",
       "      <td>감염경로 조사중</td>\n",
       "      <td>NaN</td>\n",
       "      <td>NaN</td>\n",
       "      <td>2020-10-22 10:58</td>\n",
       "      <td>2020-10-22 15:44</td>\n",
       "      <td>Y</td>\n",
       "      <td>10</td>\n",
       "      <td>21</td>\n",
       "    </tr>\n",
       "    <tr>\n",
       "      <th>6</th>\n",
       "      <td>5742</td>\n",
       "      <td>10.21.</td>\n",
       "      <td>25455</td>\n",
       "      <td>관악구</td>\n",
       "      <td>NaN</td>\n",
       "      <td>관악구 삼모스포렉스Ⅱ</td>\n",
       "      <td>NaN</td>\n",
       "      <td>NaN</td>\n",
       "      <td>2020-10-22 10:58</td>\n",
       "      <td>2020-10-22 10:58</td>\n",
       "      <td>Y</td>\n",
       "      <td>10</td>\n",
       "      <td>21</td>\n",
       "    </tr>\n",
       "    <tr>\n",
       "      <th>7</th>\n",
       "      <td>5741</td>\n",
       "      <td>10.21.</td>\n",
       "      <td>25456</td>\n",
       "      <td>관악구</td>\n",
       "      <td>NaN</td>\n",
       "      <td>관악구 삼모스포렉스Ⅱ</td>\n",
       "      <td>NaN</td>\n",
       "      <td>NaN</td>\n",
       "      <td>2020-10-22 10:58</td>\n",
       "      <td>2020-10-22 10:58</td>\n",
       "      <td>Y</td>\n",
       "      <td>10</td>\n",
       "      <td>21</td>\n",
       "    </tr>\n",
       "    <tr>\n",
       "      <th>8</th>\n",
       "      <td>5740</td>\n",
       "      <td>10.21.</td>\n",
       "      <td>25457</td>\n",
       "      <td>관악구</td>\n",
       "      <td>NaN</td>\n",
       "      <td>관악구 삼모스포렉스Ⅱ</td>\n",
       "      <td>NaN</td>\n",
       "      <td>NaN</td>\n",
       "      <td>2020-10-22 10:58</td>\n",
       "      <td>2020-10-22 10:58</td>\n",
       "      <td>Y</td>\n",
       "      <td>10</td>\n",
       "      <td>21</td>\n",
       "    </tr>\n",
       "    <tr>\n",
       "      <th>9</th>\n",
       "      <td>5739</td>\n",
       "      <td>10.21.</td>\n",
       "      <td>25466</td>\n",
       "      <td>관악구</td>\n",
       "      <td>NaN</td>\n",
       "      <td>관악구 삼모스포렉스Ⅱ</td>\n",
       "      <td>NaN</td>\n",
       "      <td>NaN</td>\n",
       "      <td>2020-10-22 10:58</td>\n",
       "      <td>2020-10-22 10:58</td>\n",
       "      <td>Y</td>\n",
       "      <td>10</td>\n",
       "      <td>21</td>\n",
       "    </tr>\n",
       "  </tbody>\n",
       "</table>\n",
       "</div>"
      ],
      "text/plain": [
       "     연번     확진일   환자번호   지역  여행력          접촉력   상태 이동경로               등록일   \n",
       "0  5748  10.21.  25530  양천구  NaN     감염경로 조사중  NaN  NaN  2020-10-22 10:58  \\\n",
       "1  5747  10.21.  25528  강동구  NaN    강남서초 지인모임  NaN  NaN  2020-10-22 10:58   \n",
       "2  5746  10.21.  25525  강남구  NaN    기타 확진자 접촉  NaN  NaN  2020-10-22 10:58   \n",
       "3  5745  10.21.  25517  관악구  NaN     감염경로 조사중  NaN  NaN  2020-10-22 10:58   \n",
       "4  5744  10.21.  25504  관악구  NaN    기타 확진자 접촉  NaN  NaN  2020-10-22 10:58   \n",
       "5  5743  10.21.  25505  구로구  NaN     감염경로 조사중  NaN  NaN  2020-10-22 10:58   \n",
       "6  5742  10.21.  25455  관악구  NaN  관악구 삼모스포렉스Ⅱ  NaN  NaN  2020-10-22 10:58   \n",
       "7  5741  10.21.  25456  관악구  NaN  관악구 삼모스포렉스Ⅱ  NaN  NaN  2020-10-22 10:58   \n",
       "8  5740  10.21.  25457  관악구  NaN  관악구 삼모스포렉스Ⅱ  NaN  NaN  2020-10-22 10:58   \n",
       "9  5739  10.21.  25466  관악구  NaN  관악구 삼모스포렉스Ⅱ  NaN  NaN  2020-10-22 10:58   \n",
       "\n",
       "                수정일 노출여부 month day  \n",
       "0  2020-10-22 10:58    Y    10  21  \n",
       "1  2020-10-22 10:58    Y    10  21  \n",
       "2  2020-10-22 10:58    Y    10  21  \n",
       "3  2020-10-22 10:58    Y    10  21  \n",
       "4  2020-10-22 10:58    Y    10  21  \n",
       "5  2020-10-22 15:44    Y    10  21  \n",
       "6  2020-10-22 10:58    Y    10  21  \n",
       "7  2020-10-22 10:58    Y    10  21  \n",
       "8  2020-10-22 10:58    Y    10  21  \n",
       "9  2020-10-22 10:58    Y    10  21  "
      ]
     },
     "execution_count": 37,
     "metadata": {},
     "output_type": "execute_result"
    }
   ],
   "source": [
    "corona_del_col.head(10)"
   ]
  },
  {
   "cell_type": "markdown",
   "metadata": {
    "id": "tM5mk2V9wUBu"
   },
   "source": [
    "이번에는 지역별로 확진자가 얼마나 있는지 막대그래프로 출력해 봅시다."
   ]
  },
  {
   "cell_type": "code",
   "execution_count": 35,
   "metadata": {},
   "outputs": [],
   "source": [
    "import matplotlib.font_manager as fm\n",
    "\n",
    "font_dirs = ['/usr/share/fonts/truetype/nanum', ]\n",
    "font_files = fm.findSystemFonts(fontpaths=font_dirs)\n",
    "\n",
    "for font_file in font_files:\n",
    "    fm.fontManager.addfont(font_file)"
   ]
  },
  {
   "cell_type": "code",
   "execution_count": 36,
   "metadata": {
    "id": "_UOI_lbowUBu",
    "outputId": "d11d5768-1697-4648-cb6e-c5f088dbc2e0"
   },
   "outputs": [
    {
     "data": {
      "image/png": "[encoded data removed]",
      "text/plain": [
       "<Figure size 2000x1000 with 1 Axes>"
      ]
     },
     "metadata": {},
     "output_type": "display_data"
    }
   ],
   "source": [
    "plt.figure(figsize=(20,10))\n",
    "# 한글 출력을 위해서 폰트 옵션을 설정합니다.\n",
    "sns.set(font=\"NanumBarunGothic\", \n",
    "        rc={\"axes.unicode_minus\":False},\n",
    "        style='darkgrid')\n",
    "ax = sns.countplot(x=\"지역\", data=corona_del_col, palette=\"Set2\")"
   ]
  },
  {
   "cell_type": "markdown",
   "metadata": {
    "id": "yLDr9FcOwUBu"
   },
   "source": [
    " "
   ]
  },
  {
   "cell_type": "markdown",
   "metadata": {
    "id": "9j_M6JPKwUBw"
   },
   "source": [
    "#### 지역 이상치 데이터 처리"
   ]
  },
  {
   "cell_type": "markdown",
   "metadata": {
    "id": "7PTWWj38wUBw"
   },
   "source": [
    "위의 출력된 데이터를 보면 `종랑구`라는 잘못된 데이터와 `한국`이라는 지역과는 맞지 않는 데이터가 있음을 알 수 있습니다.\n",
    "\n",
    "기존 지역 데이터 특성에 맞도록 `종랑구` -> `중랑구`, `한국` -> `기타`로 데이터를 변경해 봅시다."
   ]
  },
  {
   "cell_type": "code",
   "execution_count": 38,
   "metadata": {
    "id": "3cGiPownwUBx"
   },
   "outputs": [],
   "source": [
    "# replace 함수를 사용하여 해당 데이터를 변경합니다.\n",
    "# 이상치가 처리된 데이터이기에 새로운 Dataframe으로 저장합니다.\n",
    "corona_out_region = corona_del_col.replace({'종랑구':'중랑구', '한국':'기타'})"
   ]
  },
  {
   "cell_type": "code",
   "execution_count": 39,
   "metadata": {
    "id": "gG0doFrywUBx",
    "outputId": "6774ab19-05dc-4f6e-e66c-9359a97289d0"
   },
   "outputs": [
    {
     "data": {
      "image/png": "[encoded data removed]",
      "text/plain": [
       "<Figure size 2000x1000 with 1 Axes>"
      ]
     },
     "metadata": {},
     "output_type": "display_data"
    }
   ],
   "source": [
    "# 이상치가 처리된 데이터를 다시 출력해 봅시다.\n",
    "plt.figure(figsize=(20,10))\n",
    "sns.set(font=\"NanumBarunGothic\", \n",
    "        rc={\"axes.unicode_minus\":False},\n",
    "        style='darkgrid')\n",
    "ax = sns.countplot(x=\"지역\", data=corona_out_region, palette=\"Set2\")"
   ]
  },
  {
   "cell_type": "markdown",
   "metadata": {
    "id": "vXpCuwcCwUBx"
   },
   "source": [
    " "
   ]
  },
  {
   "cell_type": "markdown",
   "metadata": {
    "id": "Xiy8Sry7wUBx"
   },
   "source": [
    "### 3.5. 8월달 지역별 확진자 수 출력"
   ]
  },
  {
   "cell_type": "markdown",
   "metadata": {
    "id": "dITR9gJQwUBy"
   },
   "source": [
    "감염자가 많았던 8월에는 지역별로 확진자가 어떻게 분포되어 있는지 막대그래프로 출력해 봅시다."
   ]
  },
  {
   "cell_type": "code",
   "execution_count": 40,
   "metadata": {
    "id": "TaCI1HOPwUBy",
    "outputId": "e661da38-c738-408f-966f-ac31f5826193"
   },
   "outputs": [
    {
     "data": {
      "text/html": [
       "<div>\n",
       "<style scoped>\n",
       "    .dataframe tbody tr th:only-of-type {\n",
       "        vertical-align: middle;\n",
       "    }\n",
       "\n",
       "    .dataframe tbody tr th {\n",
       "        vertical-align: top;\n",
       "    }\n",
       "\n",
       "    .dataframe thead th {\n",
       "        text-align: right;\n",
       "    }\n",
       "</style>\n",
       "<table border=\"1\" class=\"dataframe\">\n",
       "  <thead>\n",
       "    <tr style=\"text-align: right;\">\n",
       "      <th></th>\n",
       "      <th>연번</th>\n",
       "      <th>확진일</th>\n",
       "      <th>환자번호</th>\n",
       "      <th>지역</th>\n",
       "      <th>여행력</th>\n",
       "      <th>접촉력</th>\n",
       "      <th>상태</th>\n",
       "      <th>이동경로</th>\n",
       "      <th>등록일</th>\n",
       "      <th>수정일</th>\n",
       "      <th>노출여부</th>\n",
       "      <th>month</th>\n",
       "      <th>day</th>\n",
       "    </tr>\n",
       "  </thead>\n",
       "  <tbody>\n",
       "    <tr>\n",
       "      <th>1271</th>\n",
       "      <td>4477</td>\n",
       "      <td>8.31.</td>\n",
       "      <td>20132</td>\n",
       "      <td>타시도</td>\n",
       "      <td>NaN</td>\n",
       "      <td>감염경로 조사중</td>\n",
       "      <td>퇴원</td>\n",
       "      <td>이동경로 공개기간 경과</td>\n",
       "      <td>2020-10-22 10:58</td>\n",
       "      <td>2020-10-23 9:00</td>\n",
       "      <td>Y</td>\n",
       "      <td>8</td>\n",
       "      <td>31</td>\n",
       "    </tr>\n",
       "    <tr>\n",
       "      <th>1272</th>\n",
       "      <td>4476</td>\n",
       "      <td>8.25.</td>\n",
       "      <td>17968</td>\n",
       "      <td>타시도</td>\n",
       "      <td>NaN</td>\n",
       "      <td>성북구 사랑제일교회 관련</td>\n",
       "      <td>NaN</td>\n",
       "      <td>이동경로 공개기간 경과</td>\n",
       "      <td>2020-10-22 10:58</td>\n",
       "      <td>2020-10-23 9:00</td>\n",
       "      <td>Y</td>\n",
       "      <td>8</td>\n",
       "      <td>25</td>\n",
       "    </tr>\n",
       "    <tr>\n",
       "      <th>1273</th>\n",
       "      <td>4475</td>\n",
       "      <td>8.26.</td>\n",
       "      <td>18821</td>\n",
       "      <td>타시도</td>\n",
       "      <td>NaN</td>\n",
       "      <td>타시도 확진자 접촉</td>\n",
       "      <td>퇴원</td>\n",
       "      <td>이동경로 공개기간 경과</td>\n",
       "      <td>2020-10-22 10:58</td>\n",
       "      <td>2020-10-23 9:00</td>\n",
       "      <td>Y</td>\n",
       "      <td>8</td>\n",
       "      <td>26</td>\n",
       "    </tr>\n",
       "    <tr>\n",
       "      <th>1274</th>\n",
       "      <td>4474</td>\n",
       "      <td>8.27.</td>\n",
       "      <td>18818</td>\n",
       "      <td>타시도</td>\n",
       "      <td>NaN</td>\n",
       "      <td>기타 확진자 접촉</td>\n",
       "      <td>퇴원</td>\n",
       "      <td>이동경로 공개기간 경과</td>\n",
       "      <td>2020-10-22 10:58</td>\n",
       "      <td>2020-10-23 9:00</td>\n",
       "      <td>Y</td>\n",
       "      <td>8</td>\n",
       "      <td>27</td>\n",
       "    </tr>\n",
       "    <tr>\n",
       "      <th>1504</th>\n",
       "      <td>4244</td>\n",
       "      <td>8.30.</td>\n",
       "      <td>20116</td>\n",
       "      <td>타시도</td>\n",
       "      <td>NaN</td>\n",
       "      <td>감염경로 조사중</td>\n",
       "      <td>퇴원</td>\n",
       "      <td>이동경로 공개기간 경과</td>\n",
       "      <td>2020-10-22 10:58</td>\n",
       "      <td>2020-10-23 9:00</td>\n",
       "      <td>Y</td>\n",
       "      <td>8</td>\n",
       "      <td>30</td>\n",
       "    </tr>\n",
       "    <tr>\n",
       "      <th>...</th>\n",
       "      <td>...</td>\n",
       "      <td>...</td>\n",
       "      <td>...</td>\n",
       "      <td>...</td>\n",
       "      <td>...</td>\n",
       "      <td>...</td>\n",
       "      <td>...</td>\n",
       "      <td>...</td>\n",
       "      <td>...</td>\n",
       "      <td>...</td>\n",
       "      <td>...</td>\n",
       "      <td>...</td>\n",
       "      <td>...</td>\n",
       "    </tr>\n",
       "    <tr>\n",
       "      <th>4140</th>\n",
       "      <td>1608</td>\n",
       "      <td>8.2.</td>\n",
       "      <td>14382</td>\n",
       "      <td>용산구</td>\n",
       "      <td>일본</td>\n",
       "      <td>해외 접촉 추정</td>\n",
       "      <td>퇴원</td>\n",
       "      <td>이동경로 공개기간 경과</td>\n",
       "      <td>2020-10-22 10:58</td>\n",
       "      <td>2020-10-23 9:00</td>\n",
       "      <td>Y</td>\n",
       "      <td>8</td>\n",
       "      <td>2</td>\n",
       "    </tr>\n",
       "    <tr>\n",
       "      <th>4141</th>\n",
       "      <td>1607</td>\n",
       "      <td>8.1.</td>\n",
       "      <td>14364</td>\n",
       "      <td>양천구</td>\n",
       "      <td>NaN</td>\n",
       "      <td>송파구 확진자 접촉</td>\n",
       "      <td>퇴원</td>\n",
       "      <td>이동경로 공개기간 경과</td>\n",
       "      <td>2020-10-22 10:58</td>\n",
       "      <td>2020-10-23 9:00</td>\n",
       "      <td>Y</td>\n",
       "      <td>8</td>\n",
       "      <td>1</td>\n",
       "    </tr>\n",
       "    <tr>\n",
       "      <th>4142</th>\n",
       "      <td>1606</td>\n",
       "      <td>8.1.</td>\n",
       "      <td>14362</td>\n",
       "      <td>종로구</td>\n",
       "      <td>NaN</td>\n",
       "      <td>종로구 지인모임 신명투자</td>\n",
       "      <td>퇴원</td>\n",
       "      <td>이동경로 공개기간 경과</td>\n",
       "      <td>2020-10-22 10:58</td>\n",
       "      <td>2020-10-23 9:00</td>\n",
       "      <td>Y</td>\n",
       "      <td>8</td>\n",
       "      <td>1</td>\n",
       "    </tr>\n",
       "    <tr>\n",
       "      <th>4144</th>\n",
       "      <td>1604</td>\n",
       "      <td>8.1.</td>\n",
       "      <td>14366</td>\n",
       "      <td>강서구</td>\n",
       "      <td>NaN</td>\n",
       "      <td>강서구 요양시설관련</td>\n",
       "      <td>퇴원</td>\n",
       "      <td>이동경로 공개기간 경과</td>\n",
       "      <td>2020-10-22 10:58</td>\n",
       "      <td>2020-10-23 9:00</td>\n",
       "      <td>Y</td>\n",
       "      <td>8</td>\n",
       "      <td>1</td>\n",
       "    </tr>\n",
       "    <tr>\n",
       "      <th>4145</th>\n",
       "      <td>1603</td>\n",
       "      <td>8.1.</td>\n",
       "      <td>14365</td>\n",
       "      <td>강서구</td>\n",
       "      <td>NaN</td>\n",
       "      <td>강서구 요양시설관련</td>\n",
       "      <td>퇴원</td>\n",
       "      <td>이동경로 공개기간 경과</td>\n",
       "      <td>2020-10-22 10:58</td>\n",
       "      <td>2020-10-23 9:00</td>\n",
       "      <td>Y</td>\n",
       "      <td>8</td>\n",
       "      <td>1</td>\n",
       "    </tr>\n",
       "  </tbody>\n",
       "</table>\n",
       "<p>2416 rows × 13 columns</p>\n",
       "</div>"
      ],
      "text/plain": [
       "        연번    확진일   환자번호   지역  여행력            접촉력   상태          이동경로   \n",
       "1271  4477  8.31.  20132  타시도  NaN       감염경로 조사중   퇴원  이동경로 공개기간 경과  \\\n",
       "1272  4476  8.25.  17968  타시도  NaN  성북구 사랑제일교회 관련  NaN  이동경로 공개기간 경과   \n",
       "1273  4475  8.26.  18821  타시도  NaN     타시도 확진자 접촉   퇴원  이동경로 공개기간 경과   \n",
       "1274  4474  8.27.  18818  타시도  NaN      기타 확진자 접촉   퇴원  이동경로 공개기간 경과   \n",
       "1504  4244  8.30.  20116  타시도  NaN       감염경로 조사중   퇴원  이동경로 공개기간 경과   \n",
       "...    ...    ...    ...  ...  ...            ...  ...           ...   \n",
       "4140  1608   8.2.  14382  용산구   일본       해외 접촉 추정   퇴원  이동경로 공개기간 경과   \n",
       "4141  1607   8.1.  14364  양천구  NaN     송파구 확진자 접촉   퇴원  이동경로 공개기간 경과   \n",
       "4142  1606   8.1.  14362  종로구  NaN  종로구 지인모임 신명투자   퇴원  이동경로 공개기간 경과   \n",
       "4144  1604   8.1.  14366  강서구  NaN     강서구 요양시설관련   퇴원  이동경로 공개기간 경과   \n",
       "4145  1603   8.1.  14365  강서구  NaN     강서구 요양시설관련   퇴원  이동경로 공개기간 경과   \n",
       "\n",
       "                   등록일              수정일 노출여부 month day  \n",
       "1271  2020-10-22 10:58  2020-10-23 9:00    Y     8  31  \n",
       "1272  2020-10-22 10:58  2020-10-23 9:00    Y     8  25  \n",
       "1273  2020-10-22 10:58  2020-10-23 9:00    Y     8  26  \n",
       "1274  2020-10-22 10:58  2020-10-23 9:00    Y     8  27  \n",
       "1504  2020-10-22 10:58  2020-10-23 9:00    Y     8  30  \n",
       "...                ...              ...  ...   ...  ..  \n",
       "4140  2020-10-22 10:58  2020-10-23 9:00    Y     8   2  \n",
       "4141  2020-10-22 10:58  2020-10-23 9:00    Y     8   1  \n",
       "4142  2020-10-22 10:58  2020-10-23 9:00    Y     8   1  \n",
       "4144  2020-10-22 10:58  2020-10-23 9:00    Y     8   1  \n",
       "4145  2020-10-22 10:58  2020-10-23 9:00    Y     8   1  \n",
       "\n",
       "[2416 rows x 13 columns]"
      ]
     },
     "execution_count": 40,
     "metadata": {},
     "output_type": "execute_result"
    }
   ],
   "source": [
    "# 논리연산을 이용한 조건을 다음과 같이 사용하면 해당 조건에 맞는 데이터를 출력할 수 있습니다.\n",
    "corona_out_region[corona_del_col['month'] == '8']"
   ]
  },
  {
   "cell_type": "code",
   "execution_count": 41,
   "metadata": {
    "id": "eeKACONSwUBy",
    "outputId": "e20eed3e-6f6e-4637-ad48-e700e4651b71",
    "scrolled": true
   },
   "outputs": [
    {
     "data": {
      "image/png": "[encoded data removed]",
      "text/plain": [
       "<Figure size 2000x1000 with 1 Axes>"
      ]
     },
     "metadata": {},
     "output_type": "display_data"
    }
   ],
   "source": [
    "# 그래프를 출력합니다.\n",
    "plt.figure(figsize=(20,10))\n",
    "sns.set(font=\"NanumBarunGothic\", \n",
    "        rc={\"axes.unicode_minus\":False},\n",
    "        style='darkgrid')\n",
    "ax = sns.countplot(x=\"지역\", data=corona_out_region[corona_del_col['month'] == '8'], palette=\"Set2\")"
   ]
  },
  {
   "cell_type": "markdown",
   "metadata": {
    "id": "VKkTYUv9wUBy"
   },
   "source": [
    " "
   ]
  },
  {
   "cell_type": "code",
   "execution_count": 59,
   "metadata": {},
   "outputs": [
    {
     "data": {
      "text/html": [
       "<div>\n",
       "<style scoped>\n",
       "    .dataframe tbody tr th:only-of-type {\n",
       "        vertical-align: middle;\n",
       "    }\n",
       "\n",
       "    .dataframe tbody tr th {\n",
       "        vertical-align: top;\n",
       "    }\n",
       "\n",
       "    .dataframe thead th {\n",
       "        text-align: right;\n",
       "    }\n",
       "</style>\n",
       "<table border=\"1\" class=\"dataframe\">\n",
       "  <thead>\n",
       "    <tr style=\"text-align: right;\">\n",
       "      <th></th>\n",
       "      <th>연번</th>\n",
       "      <th>확진일</th>\n",
       "      <th>환자번호</th>\n",
       "      <th>지역</th>\n",
       "      <th>여행력</th>\n",
       "      <th>접촉력</th>\n",
       "      <th>상태</th>\n",
       "      <th>이동경로</th>\n",
       "      <th>등록일</th>\n",
       "      <th>수정일</th>\n",
       "      <th>노출여부</th>\n",
       "      <th>month</th>\n",
       "      <th>day</th>\n",
       "    </tr>\n",
       "  </thead>\n",
       "  <tbody>\n",
       "    <tr>\n",
       "      <th>425</th>\n",
       "      <td>5323</td>\n",
       "      <td>9.30.</td>\n",
       "      <td>23884</td>\n",
       "      <td>기타</td>\n",
       "      <td>NaN</td>\n",
       "      <td>도봉구 다나병원</td>\n",
       "      <td>NaN</td>\n",
       "      <td>이동경로 공개기간 경과</td>\n",
       "      <td>2020-10-22 10:58</td>\n",
       "      <td>2020-10-23 9:00</td>\n",
       "      <td>Y</td>\n",
       "      <td>9</td>\n",
       "      <td>30</td>\n",
       "    </tr>\n",
       "    <tr>\n",
       "      <th>426</th>\n",
       "      <td>5322</td>\n",
       "      <td>9.30.</td>\n",
       "      <td>23883</td>\n",
       "      <td>성동구</td>\n",
       "      <td>NaN</td>\n",
       "      <td>도봉구 다나병원</td>\n",
       "      <td>퇴원</td>\n",
       "      <td>이동경로 공개기간 경과</td>\n",
       "      <td>2020-10-22 10:58</td>\n",
       "      <td>2020-10-23 9:00</td>\n",
       "      <td>Y</td>\n",
       "      <td>9</td>\n",
       "      <td>30</td>\n",
       "    </tr>\n",
       "    <tr>\n",
       "      <th>427</th>\n",
       "      <td>5321</td>\n",
       "      <td>9.30.</td>\n",
       "      <td>23886</td>\n",
       "      <td>성동구</td>\n",
       "      <td>NaN</td>\n",
       "      <td>도봉구 다나병원</td>\n",
       "      <td>NaN</td>\n",
       "      <td>이동경로 공개기간 경과</td>\n",
       "      <td>2020-10-22 10:58</td>\n",
       "      <td>2020-10-23 9:00</td>\n",
       "      <td>Y</td>\n",
       "      <td>9</td>\n",
       "      <td>30</td>\n",
       "    </tr>\n",
       "    <tr>\n",
       "      <th>428</th>\n",
       "      <td>5320</td>\n",
       "      <td>9.30.</td>\n",
       "      <td>23880</td>\n",
       "      <td>광진구</td>\n",
       "      <td>NaN</td>\n",
       "      <td>기타 확진자 접촉</td>\n",
       "      <td>퇴원</td>\n",
       "      <td>이동경로 공개기간 경과</td>\n",
       "      <td>2020-10-22 10:58</td>\n",
       "      <td>2020-10-23 9:00</td>\n",
       "      <td>Y</td>\n",
       "      <td>9</td>\n",
       "      <td>30</td>\n",
       "    </tr>\n",
       "    <tr>\n",
       "      <th>429</th>\n",
       "      <td>5319</td>\n",
       "      <td>9.30.</td>\n",
       "      <td>23869</td>\n",
       "      <td>강동구</td>\n",
       "      <td>NaN</td>\n",
       "      <td>감염경로 조사중</td>\n",
       "      <td>퇴원</td>\n",
       "      <td>이동경로 공개기간 경과</td>\n",
       "      <td>2020-10-22 10:58</td>\n",
       "      <td>2020-10-23 9:00</td>\n",
       "      <td>Y</td>\n",
       "      <td>9</td>\n",
       "      <td>30</td>\n",
       "    </tr>\n",
       "    <tr>\n",
       "      <th>...</th>\n",
       "      <td>...</td>\n",
       "      <td>...</td>\n",
       "      <td>...</td>\n",
       "      <td>...</td>\n",
       "      <td>...</td>\n",
       "      <td>...</td>\n",
       "      <td>...</td>\n",
       "      <td>...</td>\n",
       "      <td>...</td>\n",
       "      <td>...</td>\n",
       "      <td>...</td>\n",
       "      <td>...</td>\n",
       "      <td>...</td>\n",
       "    </tr>\n",
       "    <tr>\n",
       "      <th>1768</th>\n",
       "      <td>3980</td>\n",
       "      <td>9.01.</td>\n",
       "      <td>20305</td>\n",
       "      <td>중랑구</td>\n",
       "      <td>NaN</td>\n",
       "      <td>중랑구 소재 체육시설</td>\n",
       "      <td>퇴원</td>\n",
       "      <td>이동경로 공개기간 경과</td>\n",
       "      <td>2020-10-22 10:58</td>\n",
       "      <td>2020-10-23 9:00</td>\n",
       "      <td>Y</td>\n",
       "      <td>9</td>\n",
       "      <td>01</td>\n",
       "    </tr>\n",
       "    <tr>\n",
       "      <th>1774</th>\n",
       "      <td>3974</td>\n",
       "      <td>9.01.</td>\n",
       "      <td>20327</td>\n",
       "      <td>중랑구</td>\n",
       "      <td>NaN</td>\n",
       "      <td>중랑구 소재 체육시설</td>\n",
       "      <td>퇴원</td>\n",
       "      <td>이동경로 공개기간 경과</td>\n",
       "      <td>2020-10-22 10:58</td>\n",
       "      <td>2020-10-23 9:00</td>\n",
       "      <td>Y</td>\n",
       "      <td>9</td>\n",
       "      <td>01</td>\n",
       "    </tr>\n",
       "    <tr>\n",
       "      <th>1779</th>\n",
       "      <td>3969</td>\n",
       "      <td>9.01.</td>\n",
       "      <td>20339</td>\n",
       "      <td>중랑구</td>\n",
       "      <td>NaN</td>\n",
       "      <td>성북구 체대입시 관련</td>\n",
       "      <td>퇴원</td>\n",
       "      <td>이동경로 공개기간 경과</td>\n",
       "      <td>2020-10-22 10:58</td>\n",
       "      <td>2020-10-23 9:00</td>\n",
       "      <td>Y</td>\n",
       "      <td>9</td>\n",
       "      <td>01</td>\n",
       "    </tr>\n",
       "    <tr>\n",
       "      <th>1781</th>\n",
       "      <td>3967</td>\n",
       "      <td>9.01.</td>\n",
       "      <td>20201</td>\n",
       "      <td>용산구</td>\n",
       "      <td>NaN</td>\n",
       "      <td>기타 확진자 접촉</td>\n",
       "      <td>퇴원</td>\n",
       "      <td>이동경로 공개기간 경과</td>\n",
       "      <td>2020-10-22 10:58</td>\n",
       "      <td>2020-10-23 9:00</td>\n",
       "      <td>Y</td>\n",
       "      <td>9</td>\n",
       "      <td>01</td>\n",
       "    </tr>\n",
       "    <tr>\n",
       "      <th>1998</th>\n",
       "      <td>3750</td>\n",
       "      <td>9.01.</td>\n",
       "      <td>20381</td>\n",
       "      <td>강남구</td>\n",
       "      <td>NaN</td>\n",
       "      <td>확인 중</td>\n",
       "      <td>퇴원</td>\n",
       "      <td>이동경로 공개기간 경과</td>\n",
       "      <td>2020-10-22 10:58</td>\n",
       "      <td>2020-10-23 9:00</td>\n",
       "      <td>Y</td>\n",
       "      <td>9</td>\n",
       "      <td>01</td>\n",
       "    </tr>\n",
       "  </tbody>\n",
       "</table>\n",
       "<p>1304 rows × 13 columns</p>\n",
       "</div>"
      ],
      "text/plain": [
       "        연번    확진일   환자번호   지역  여행력          접촉력   상태          이동경로   \n",
       "425   5323  9.30.  23884   기타  NaN     도봉구 다나병원  NaN  이동경로 공개기간 경과  \\\n",
       "426   5322  9.30.  23883  성동구  NaN     도봉구 다나병원   퇴원  이동경로 공개기간 경과   \n",
       "427   5321  9.30.  23886  성동구  NaN     도봉구 다나병원  NaN  이동경로 공개기간 경과   \n",
       "428   5320  9.30.  23880  광진구  NaN    기타 확진자 접촉   퇴원  이동경로 공개기간 경과   \n",
       "429   5319  9.30.  23869  강동구  NaN     감염경로 조사중   퇴원  이동경로 공개기간 경과   \n",
       "...    ...    ...    ...  ...  ...          ...  ...           ...   \n",
       "1768  3980  9.01.  20305  중랑구  NaN  중랑구 소재 체육시설   퇴원  이동경로 공개기간 경과   \n",
       "1774  3974  9.01.  20327  중랑구  NaN  중랑구 소재 체육시설   퇴원  이동경로 공개기간 경과   \n",
       "1779  3969  9.01.  20339  중랑구  NaN  성북구 체대입시 관련   퇴원  이동경로 공개기간 경과   \n",
       "1781  3967  9.01.  20201  용산구  NaN    기타 확진자 접촉   퇴원  이동경로 공개기간 경과   \n",
       "1998  3750  9.01.  20381  강남구  NaN         확인 중   퇴원  이동경로 공개기간 경과   \n",
       "\n",
       "                   등록일              수정일 노출여부 month day  \n",
       "425   2020-10-22 10:58  2020-10-23 9:00    Y     9  30  \n",
       "426   2020-10-22 10:58  2020-10-23 9:00    Y     9  30  \n",
       "427   2020-10-22 10:58  2020-10-23 9:00    Y     9  30  \n",
       "428   2020-10-22 10:58  2020-10-23 9:00    Y     9  30  \n",
       "429   2020-10-22 10:58  2020-10-23 9:00    Y     9  30  \n",
       "...                ...              ...  ...   ...  ..  \n",
       "1768  2020-10-22 10:58  2020-10-23 9:00    Y     9  01  \n",
       "1774  2020-10-22 10:58  2020-10-23 9:00    Y     9  01  \n",
       "1779  2020-10-22 10:58  2020-10-23 9:00    Y     9  01  \n",
       "1781  2020-10-22 10:58  2020-10-23 9:00    Y     9  01  \n",
       "1998  2020-10-22 10:58  2020-10-23 9:00    Y     9  01  \n",
       "\n",
       "[1304 rows x 13 columns]"
      ]
     },
     "execution_count": 59,
     "metadata": {},
     "output_type": "execute_result"
    }
   ],
   "source": [
    "corona_out_region[corona_del_col['month'] == '9']"
   ]
  },
  {
   "cell_type": "code",
   "execution_count": 60,
   "metadata": {},
   "outputs": [
    {
     "data": {
      "image/png": "[encoded data removed]",
      "text/plain": [
       "<Figure size 2000x1000 with 1 Axes>"
      ]
     },
     "metadata": {},
     "output_type": "display_data"
    }
   ],
   "source": [
    "# 그래프를 출력합니다.\n",
    "plt.figure(figsize=(20,10))\n",
    "sns.set(font=\"NanumBarunGothic\", \n",
    "        rc={\"axes.unicode_minus\":False},\n",
    "        style='darkgrid')\n",
    "ax = sns.countplot(x=\"지역\", data=corona_out_region[corona_del_col['month'] == '9'], palette=\"Set2\")"
   ]
  },
  {
   "cell_type": "code",
   "execution_count": 62,
   "metadata": {
    "scrolled": true
   },
   "outputs": [
    {
     "data": {
      "image/png": "[encoded data removed]",
      "text/plain": [
       "<Figure size 2000x1000 with 1 Axes>"
      ]
     },
     "metadata": {},
     "output_type": "display_data"
    }
   ],
   "source": [
    "# 그래프를 출력합니다.\n",
    "plt.figure(figsize=(20,10))\n",
    "sns.set(font=\"NanumBarunGothic\", \n",
    "        rc={\"axes.unicode_minus\":False},\n",
    "        style='darkgrid')\n",
    "ax = sns.countplot(y=\"지역\", data=corona_out_region[corona_del_col['month'] == '9'], palette=\"Set1\")"
   ]
  },
  {
   "cell_type": "markdown",
   "metadata": {
    "id": "TbEsAOn8wUBy"
   },
   "source": [
    "### 3.6. 월별 관악구 확진자 수 출력"
   ]
  },
  {
   "cell_type": "markdown",
   "metadata": {
    "id": "6ZyLQka_wUBy"
   },
   "source": [
    "이번에는 확진자가 가장 많았던 관악구 내의 확진자 수가 월별로 어떻게 증가했는지 그 분포를 막대그래프로 출력해 봅시다."
   ]
  },
  {
   "cell_type": "code",
   "execution_count": 58,
   "metadata": {
    "id": "zWMpX2BDwUBy",
    "outputId": "5e5556eb-6271-4045-bcfa-a1b892f4f6ba"
   },
   "outputs": [
    {
     "data": {
      "text/plain": [
       "3       10\n",
       "4       10\n",
       "6       10\n",
       "7       10\n",
       "8       10\n",
       "        ..\n",
       "5630     3\n",
       "5661     2\n",
       "5674     2\n",
       "5695     2\n",
       "5711     2\n",
       "Name: month, Length: 452, dtype: object"
      ]
     },
     "execution_count": 58,
     "metadata": {},
     "output_type": "execute_result"
    }
   ],
   "source": [
    "# 해당 column을 지정하여 series 형태로 출력할 수 있습니다.\n",
    "corona_out_region['month'][corona_out_region['지역'] == '관악구']"
   ]
  },
  {
   "cell_type": "code",
   "execution_count": 43,
   "metadata": {
    "id": "MCn-1F5twUBy",
    "outputId": "65b47f2e-85ef-40b6-a202-d72f6712b4c2",
    "scrolled": false
   },
   "outputs": [
    {
     "data": {
      "image/png": "[encoded data removed]",
      "text/plain": [
       "<Figure size 1000x500 with 1 Axes>"
      ]
     },
     "metadata": {},
     "output_type": "display_data"
    }
   ],
   "source": [
    "# 그래프를 출력합니다.\n",
    "plt.figure(figsize=(10,5))\n",
    "sns.set(style=\"darkgrid\")\n",
    "ax = sns.countplot(x=\"month\", data=corona_out_region[corona_out_region['지역'] == '관악구'], palette=\"Set2\", order = order)"
   ]
  },
  {
   "cell_type": "markdown",
   "metadata": {
    "id": "v-S2hQ9uwUBz"
   },
   "source": [
    " "
   ]
  },
  {
   "cell_type": "markdown",
   "metadata": {
    "id": "HXT25c3uwUBz"
   },
   "source": [
    "### 3.7. 서울 지역에서 확진자를 지도에 출력"
   ]
  },
  {
   "cell_type": "markdown",
   "metadata": {
    "id": "DhdbiSYSwUBz"
   },
   "source": [
    "지도를 출력하기 위한 라이브러리로 folium을 사용해 봅시다."
   ]
  },
  {
   "cell_type": "code",
   "execution_count": 45,
   "metadata": {
    "id": "DWiCNqELwUBz",
    "outputId": "92a4af0b-2ca7-43db-8e29-6557ee7cf568"
   },
   "outputs": [
    {
     "data": {
      "text/html": [
       "<div style=\"width:100%;\"><div style=\"position:relative;width:100%;height:0;padding-bottom:60%;\"><span style=\"color:#565656\">Make this Notebook Trusted to load map: File -> Trust Notebook</span><iframe srcdoc=\"&lt;!DOCTYPE html&gt;\n",
       "&lt;html&gt;\n",
       "&lt;head&gt;\n",
       "    \n",
       "    &lt;meta http-equiv=&quot;content-type&quot; content=&quot;text/html; charset=UTF-8&quot; /&gt;\n",
       "    \n",
       "        &lt;script&gt;\n",
       "            L_NO_TOUCH = false;\n",
       "            L_DISABLE_3D = false;\n",
       "        &lt;/script&gt;\n",
       "    \n",
       "    &lt;style&gt;html, body {width: 100%;height: 100%;margin: 0;padding: 0;}&lt;/style&gt;\n",
       "    &lt;style&gt;#map {position:absolute;top:0;bottom:0;right:0;left:0;}&lt;/style&gt;\n",
       "    &lt;script src=&quot;https://cdn.jsdelivr.net/npm/leaflet@1.9.3/dist/leaflet.js&quot;&gt;&lt;/script&gt;\n",
       "    &lt;script src=&quot;https://code.jquery.com/jquery-3.7.1.min.js&quot;&gt;&lt;/script&gt;\n",
       "    &lt;script src=&quot;https://cdn.jsdelivr.net/npm/bootstrap@5.2.2/dist/js/bootstrap.bundle.min.js&quot;&gt;&lt;/script&gt;\n",
       "    &lt;script src=&quot;https://cdnjs.cloudflare.com/ajax/libs/Leaflet.awesome-markers/2.0.2/leaflet.awesome-markers.js&quot;&gt;&lt;/script&gt;\n",
       "    &lt;link rel=&quot;stylesheet&quot; href=&quot;https://cdn.jsdelivr.net/npm/leaflet@1.9.3/dist/leaflet.css&quot;/&gt;\n",
       "    &lt;link rel=&quot;stylesheet&quot; href=&quot;https://cdn.jsdelivr.net/npm/bootstrap@5.2.2/dist/css/bootstrap.min.css&quot;/&gt;\n",
       "    &lt;link rel=&quot;stylesheet&quot; href=&quot;https://netdna.bootstrapcdn.com/bootstrap/3.0.0/css/bootstrap.min.css&quot;/&gt;\n",
       "    &lt;link rel=&quot;stylesheet&quot; href=&quot;https://cdn.jsdelivr.net/npm/@fortawesome/fontawesome-free@6.2.0/css/all.min.css&quot;/&gt;\n",
       "    &lt;link rel=&quot;stylesheet&quot; href=&quot;https://cdnjs.cloudflare.com/ajax/libs/Leaflet.awesome-markers/2.0.2/leaflet.awesome-markers.css&quot;/&gt;\n",
       "    &lt;link rel=&quot;stylesheet&quot; href=&quot;https://cdn.jsdelivr.net/gh/python-visualization/folium/folium/templates/leaflet.awesome.rotate.min.css&quot;/&gt;\n",
       "    \n",
       "            &lt;meta name=&quot;viewport&quot; content=&quot;width=device-width,\n",
       "                initial-scale=1.0, maximum-scale=1.0, user-scalable=no&quot; /&gt;\n",
       "            &lt;style&gt;\n",
       "                #map_ad64deb974c91a1775fc344584c5921b {\n",
       "                    position: relative;\n",
       "                    width: 100.0%;\n",
       "                    height: 100.0%;\n",
       "                    left: 0.0%;\n",
       "                    top: 0.0%;\n",
       "                }\n",
       "                .leaflet-container { font-size: 1rem; }\n",
       "            &lt;/style&gt;\n",
       "        \n",
       "&lt;/head&gt;\n",
       "&lt;body&gt;\n",
       "    \n",
       "    \n",
       "            &lt;div class=&quot;folium-map&quot; id=&quot;map_ad64deb974c91a1775fc344584c5921b&quot; &gt;&lt;/div&gt;\n",
       "        \n",
       "&lt;/body&gt;\n",
       "&lt;script&gt;\n",
       "    \n",
       "    \n",
       "            var map_ad64deb974c91a1775fc344584c5921b = L.map(\n",
       "                &quot;map_ad64deb974c91a1775fc344584c5921b&quot;,\n",
       "                {\n",
       "                    center: [37.529622, 126.984307],\n",
       "                    crs: L.CRS.EPSG3857,\n",
       "                    zoom: 11,\n",
       "                    zoomControl: true,\n",
       "                    preferCanvas: false,\n",
       "                }\n",
       "            );\n",
       "\n",
       "            \n",
       "\n",
       "        \n",
       "    \n",
       "            var tile_layer_7f1c7fa26f88f1e63907899407ea0c7a = L.tileLayer(\n",
       "                &quot;https://tile.openstreetmap.org/{z}/{x}/{y}.png&quot;,\n",
       "                {&quot;attribution&quot;: &quot;\\u0026copy; \\u003ca href=\\&quot;https://www.openstreetmap.org/copyright\\&quot;\\u003eOpenStreetMap\\u003c/a\\u003e contributors&quot;, &quot;detectRetina&quot;: false, &quot;maxNativeZoom&quot;: 19, &quot;maxZoom&quot;: 19, &quot;minZoom&quot;: 0, &quot;noWrap&quot;: false, &quot;opacity&quot;: 1, &quot;subdomains&quot;: &quot;abc&quot;, &quot;tms&quot;: false}\n",
       "            );\n",
       "        \n",
       "    \n",
       "            tile_layer_7f1c7fa26f88f1e63907899407ea0c7a.addTo(map_ad64deb974c91a1775fc344584c5921b);\n",
       "        \n",
       "&lt;/script&gt;\n",
       "&lt;/html&gt;\" style=\"position:absolute;width:100%;height:100%;left:0;top:0;border:none !important;\" allowfullscreen webkitallowfullscreen mozallowfullscreen></iframe></div></div>"
      ],
      "text/plain": [
       "<folium.folium.Map at 0x7f300061aad0>"
      ]
     },
     "execution_count": 45,
     "metadata": {},
     "output_type": "execute_result"
    }
   ],
   "source": [
    "# 지도 출력을 위한 라이브러리 folium을 import 합니다.\n",
    "import folium\n",
    "\n",
    "# Map 함수를 사용하여 지도를 출력합니다.\n",
    "map_osm = folium.Map(location=[37.529622, 126.984307], zoom_start=11)\n",
    "\n",
    "map_osm"
   ]
  },
  {
   "cell_type": "markdown",
   "metadata": {
    "id": "potB2tKrwUBz"
   },
   "source": [
    " "
   ]
  },
  {
   "cell_type": "markdown",
   "metadata": {
    "id": "3MDmffxXwUBz"
   },
   "source": [
    "지역마다 지도에 정보를 출력하기 위해서는 각 지역의 좌표정보가 필요합니다.\n",
    "\n",
    "이를 해결하기 위해서 서울시 행정구역 시군 정보 데이터를 불러와 사용합니다.\n",
    "\n",
    "데이터 출처: https://data.seoul.go.kr/dataList/OA-11677/S/1/datasetView.do"
   ]
  },
  {
   "cell_type": "code",
   "execution_count": 46,
   "metadata": {
    "id": "MuZkeSSSwUBz"
   },
   "outputs": [],
   "source": [
    "# CRS에 저장합니다.\n",
    "CRS=pd.read_csv(\"./data/서울시 행정구역 시군구 정보 (좌표계_ WGS1984).csv\")"
   ]
  },
  {
   "cell_type": "code",
   "execution_count": 47,
   "metadata": {
    "id": "TVlpXDk0wUBz",
    "outputId": "26ff1edf-3113-45b8-f831-e70dbafc5892",
    "scrolled": true
   },
   "outputs": [
    {
     "data": {
      "text/html": [
       "<div>\n",
       "<style scoped>\n",
       "    .dataframe tbody tr th:only-of-type {\n",
       "        vertical-align: middle;\n",
       "    }\n",
       "\n",
       "    .dataframe tbody tr th {\n",
       "        vertical-align: top;\n",
       "    }\n",
       "\n",
       "    .dataframe thead th {\n",
       "        text-align: right;\n",
       "    }\n",
       "</style>\n",
       "<table border=\"1\" class=\"dataframe\">\n",
       "  <thead>\n",
       "    <tr style=\"text-align: right;\">\n",
       "      <th></th>\n",
       "      <th>순번</th>\n",
       "      <th>시군구코드</th>\n",
       "      <th>시군구명_한글</th>\n",
       "      <th>시군구명_영문</th>\n",
       "      <th>ESRI_PK</th>\n",
       "      <th>위도</th>\n",
       "      <th>경도</th>\n",
       "    </tr>\n",
       "  </thead>\n",
       "  <tbody>\n",
       "    <tr>\n",
       "      <th>0</th>\n",
       "      <td>1</td>\n",
       "      <td>11320</td>\n",
       "      <td>도봉구</td>\n",
       "      <td>Dobong-gu</td>\n",
       "      <td>0</td>\n",
       "      <td>37.665861</td>\n",
       "      <td>127.031767</td>\n",
       "    </tr>\n",
       "    <tr>\n",
       "      <th>1</th>\n",
       "      <td>2</td>\n",
       "      <td>11380</td>\n",
       "      <td>은평구</td>\n",
       "      <td>Eunpyeong-gu</td>\n",
       "      <td>1</td>\n",
       "      <td>37.617612</td>\n",
       "      <td>126.922700</td>\n",
       "    </tr>\n",
       "    <tr>\n",
       "      <th>2</th>\n",
       "      <td>3</td>\n",
       "      <td>11230</td>\n",
       "      <td>동대문구</td>\n",
       "      <td>Dongdaemun-gu</td>\n",
       "      <td>2</td>\n",
       "      <td>37.583801</td>\n",
       "      <td>127.050700</td>\n",
       "    </tr>\n",
       "    <tr>\n",
       "      <th>3</th>\n",
       "      <td>4</td>\n",
       "      <td>11590</td>\n",
       "      <td>동작구</td>\n",
       "      <td>Dongjak-gu</td>\n",
       "      <td>3</td>\n",
       "      <td>37.496504</td>\n",
       "      <td>126.944307</td>\n",
       "    </tr>\n",
       "    <tr>\n",
       "      <th>4</th>\n",
       "      <td>5</td>\n",
       "      <td>11545</td>\n",
       "      <td>금천구</td>\n",
       "      <td>Geumcheon-gu</td>\n",
       "      <td>4</td>\n",
       "      <td>37.460097</td>\n",
       "      <td>126.900155</td>\n",
       "    </tr>\n",
       "    <tr>\n",
       "      <th>5</th>\n",
       "      <td>6</td>\n",
       "      <td>11530</td>\n",
       "      <td>구로구</td>\n",
       "      <td>Guro-gu</td>\n",
       "      <td>5</td>\n",
       "      <td>37.495486</td>\n",
       "      <td>126.858121</td>\n",
       "    </tr>\n",
       "    <tr>\n",
       "      <th>6</th>\n",
       "      <td>7</td>\n",
       "      <td>11110</td>\n",
       "      <td>종로구</td>\n",
       "      <td>Jongno-gu</td>\n",
       "      <td>6</td>\n",
       "      <td>37.599100</td>\n",
       "      <td>126.986149</td>\n",
       "    </tr>\n",
       "    <tr>\n",
       "      <th>7</th>\n",
       "      <td>8</td>\n",
       "      <td>11305</td>\n",
       "      <td>강북구</td>\n",
       "      <td>Gangbuk-gu</td>\n",
       "      <td>7</td>\n",
       "      <td>37.646995</td>\n",
       "      <td>127.014716</td>\n",
       "    </tr>\n",
       "    <tr>\n",
       "      <th>8</th>\n",
       "      <td>9</td>\n",
       "      <td>11260</td>\n",
       "      <td>중랑구</td>\n",
       "      <td>Jungnang-gu</td>\n",
       "      <td>8</td>\n",
       "      <td>37.595379</td>\n",
       "      <td>127.093967</td>\n",
       "    </tr>\n",
       "    <tr>\n",
       "      <th>9</th>\n",
       "      <td>10</td>\n",
       "      <td>11680</td>\n",
       "      <td>강남구</td>\n",
       "      <td>Gangnam-gu</td>\n",
       "      <td>9</td>\n",
       "      <td>37.495985</td>\n",
       "      <td>127.066409</td>\n",
       "    </tr>\n",
       "    <tr>\n",
       "      <th>10</th>\n",
       "      <td>11</td>\n",
       "      <td>11500</td>\n",
       "      <td>강서구</td>\n",
       "      <td>Gangseo-gu</td>\n",
       "      <td>10</td>\n",
       "      <td>37.565762</td>\n",
       "      <td>126.822656</td>\n",
       "    </tr>\n",
       "    <tr>\n",
       "      <th>11</th>\n",
       "      <td>12</td>\n",
       "      <td>11140</td>\n",
       "      <td>중구</td>\n",
       "      <td>Jung-gu</td>\n",
       "      <td>11</td>\n",
       "      <td>37.557945</td>\n",
       "      <td>126.994190</td>\n",
       "    </tr>\n",
       "    <tr>\n",
       "      <th>12</th>\n",
       "      <td>13</td>\n",
       "      <td>11740</td>\n",
       "      <td>강동구</td>\n",
       "      <td>Gangdong-gu</td>\n",
       "      <td>12</td>\n",
       "      <td>37.549208</td>\n",
       "      <td>127.146482</td>\n",
       "    </tr>\n",
       "    <tr>\n",
       "      <th>13</th>\n",
       "      <td>14</td>\n",
       "      <td>11215</td>\n",
       "      <td>광진구</td>\n",
       "      <td>Gwangjin-gu</td>\n",
       "      <td>13</td>\n",
       "      <td>37.548144</td>\n",
       "      <td>127.085753</td>\n",
       "    </tr>\n",
       "    <tr>\n",
       "      <th>14</th>\n",
       "      <td>15</td>\n",
       "      <td>11440</td>\n",
       "      <td>마포구</td>\n",
       "      <td>Mapo-gu</td>\n",
       "      <td>14</td>\n",
       "      <td>37.562291</td>\n",
       "      <td>126.908780</td>\n",
       "    </tr>\n",
       "    <tr>\n",
       "      <th>15</th>\n",
       "      <td>16</td>\n",
       "      <td>11650</td>\n",
       "      <td>서초구</td>\n",
       "      <td>Seocho-gu</td>\n",
       "      <td>16</td>\n",
       "      <td>37.476953</td>\n",
       "      <td>127.037810</td>\n",
       "    </tr>\n",
       "    <tr>\n",
       "      <th>16</th>\n",
       "      <td>17</td>\n",
       "      <td>11290</td>\n",
       "      <td>성북구</td>\n",
       "      <td>Seongbuk-gu</td>\n",
       "      <td>17</td>\n",
       "      <td>37.606991</td>\n",
       "      <td>127.023218</td>\n",
       "    </tr>\n",
       "    <tr>\n",
       "      <th>17</th>\n",
       "      <td>18</td>\n",
       "      <td>11350</td>\n",
       "      <td>노원구</td>\n",
       "      <td>Nowon-gu</td>\n",
       "      <td>18</td>\n",
       "      <td>37.655264</td>\n",
       "      <td>127.077120</td>\n",
       "    </tr>\n",
       "    <tr>\n",
       "      <th>18</th>\n",
       "      <td>19</td>\n",
       "      <td>11710</td>\n",
       "      <td>송파구</td>\n",
       "      <td>Songpa-gu</td>\n",
       "      <td>19</td>\n",
       "      <td>37.504853</td>\n",
       "      <td>127.114482</td>\n",
       "    </tr>\n",
       "    <tr>\n",
       "      <th>19</th>\n",
       "      <td>20</td>\n",
       "      <td>11410</td>\n",
       "      <td>서대문구</td>\n",
       "      <td>Seodaemun-gu</td>\n",
       "      <td>21</td>\n",
       "      <td>37.582037</td>\n",
       "      <td>126.935666</td>\n",
       "    </tr>\n",
       "    <tr>\n",
       "      <th>20</th>\n",
       "      <td>21</td>\n",
       "      <td>11470</td>\n",
       "      <td>양천구</td>\n",
       "      <td>Yangcheon-gu</td>\n",
       "      <td>22</td>\n",
       "      <td>37.527062</td>\n",
       "      <td>126.856153</td>\n",
       "    </tr>\n",
       "    <tr>\n",
       "      <th>21</th>\n",
       "      <td>22</td>\n",
       "      <td>11560</td>\n",
       "      <td>영등포구</td>\n",
       "      <td>Yeongdeungpo-gu</td>\n",
       "      <td>23</td>\n",
       "      <td>37.520641</td>\n",
       "      <td>126.913924</td>\n",
       "    </tr>\n",
       "    <tr>\n",
       "      <th>22</th>\n",
       "      <td>23</td>\n",
       "      <td>11620</td>\n",
       "      <td>관악구</td>\n",
       "      <td>Gwanak-gu</td>\n",
       "      <td>15</td>\n",
       "      <td>37.465399</td>\n",
       "      <td>126.943807</td>\n",
       "    </tr>\n",
       "    <tr>\n",
       "      <th>23</th>\n",
       "      <td>24</td>\n",
       "      <td>11200</td>\n",
       "      <td>성동구</td>\n",
       "      <td>Seongdong-gu</td>\n",
       "      <td>20</td>\n",
       "      <td>37.550675</td>\n",
       "      <td>127.040962</td>\n",
       "    </tr>\n",
       "    <tr>\n",
       "      <th>24</th>\n",
       "      <td>25</td>\n",
       "      <td>11170</td>\n",
       "      <td>용산구</td>\n",
       "      <td>Yongsan-gu</td>\n",
       "      <td>24</td>\n",
       "      <td>37.531101</td>\n",
       "      <td>126.981074</td>\n",
       "    </tr>\n",
       "  </tbody>\n",
       "</table>\n",
       "</div>"
      ],
      "text/plain": [
       "    순번  시군구코드 시군구명_한글          시군구명_영문  ESRI_PK         위도          경도\n",
       "0    1  11320     도봉구        Dobong-gu        0  37.665861  127.031767\n",
       "1    2  11380     은평구     Eunpyeong-gu        1  37.617612  126.922700\n",
       "2    3  11230    동대문구    Dongdaemun-gu        2  37.583801  127.050700\n",
       "3    4  11590     동작구       Dongjak-gu        3  37.496504  126.944307\n",
       "4    5  11545     금천구     Geumcheon-gu        4  37.460097  126.900155\n",
       "5    6  11530     구로구          Guro-gu        5  37.495486  126.858121\n",
       "6    7  11110     종로구        Jongno-gu        6  37.599100  126.986149\n",
       "7    8  11305     강북구       Gangbuk-gu        7  37.646995  127.014716\n",
       "8    9  11260     중랑구      Jungnang-gu        8  37.595379  127.093967\n",
       "9   10  11680     강남구       Gangnam-gu        9  37.495985  127.066409\n",
       "10  11  11500     강서구       Gangseo-gu       10  37.565762  126.822656\n",
       "11  12  11140      중구          Jung-gu       11  37.557945  126.994190\n",
       "12  13  11740     강동구      Gangdong-gu       12  37.549208  127.146482\n",
       "13  14  11215     광진구      Gwangjin-gu       13  37.548144  127.085753\n",
       "14  15  11440     마포구          Mapo-gu       14  37.562291  126.908780\n",
       "15  16  11650     서초구        Seocho-gu       16  37.476953  127.037810\n",
       "16  17  11290     성북구      Seongbuk-gu       17  37.606991  127.023218\n",
       "17  18  11350     노원구         Nowon-gu       18  37.655264  127.077120\n",
       "18  19  11710     송파구        Songpa-gu       19  37.504853  127.114482\n",
       "19  20  11410    서대문구     Seodaemun-gu       21  37.582037  126.935666\n",
       "20  21  11470     양천구     Yangcheon-gu       22  37.527062  126.856153\n",
       "21  22  11560    영등포구  Yeongdeungpo-gu       23  37.520641  126.913924\n",
       "22  23  11620     관악구        Gwanak-gu       15  37.465399  126.943807\n",
       "23  24  11200     성동구     Seongdong-gu       20  37.550675  127.040962\n",
       "24  25  11170     용산구       Yongsan-gu       24  37.531101  126.981074"
      ]
     },
     "execution_count": 47,
     "metadata": {},
     "output_type": "execute_result"
    }
   ],
   "source": [
    "# Dataframe을 출력해 봅니다.\n",
    "CRS"
   ]
  },
  {
   "cell_type": "markdown",
   "metadata": {
    "id": "yl_N3OyZwUB0"
   },
   "source": [
    " "
   ]
  },
  {
   "cell_type": "markdown",
   "metadata": {
    "id": "IIQYhGWHwUB0"
   },
   "source": [
    "저장된 데이터에서 지역명이 서울의 중심지 `중구`인 데이터를 뽑아봅시다."
   ]
  },
  {
   "cell_type": "code",
   "execution_count": 48,
   "metadata": {
    "id": "yhjy2w7TwUB0",
    "outputId": "ac414f71-5625-4930-8844-8d4707698ae9",
    "scrolled": true
   },
   "outputs": [
    {
     "data": {
      "text/html": [
       "<div>\n",
       "<style scoped>\n",
       "    .dataframe tbody tr th:only-of-type {\n",
       "        vertical-align: middle;\n",
       "    }\n",
       "\n",
       "    .dataframe tbody tr th {\n",
       "        vertical-align: top;\n",
       "    }\n",
       "\n",
       "    .dataframe thead th {\n",
       "        text-align: right;\n",
       "    }\n",
       "</style>\n",
       "<table border=\"1\" class=\"dataframe\">\n",
       "  <thead>\n",
       "    <tr style=\"text-align: right;\">\n",
       "      <th></th>\n",
       "      <th>순번</th>\n",
       "      <th>시군구코드</th>\n",
       "      <th>시군구명_한글</th>\n",
       "      <th>시군구명_영문</th>\n",
       "      <th>ESRI_PK</th>\n",
       "      <th>위도</th>\n",
       "      <th>경도</th>\n",
       "    </tr>\n",
       "  </thead>\n",
       "  <tbody>\n",
       "    <tr>\n",
       "      <th>11</th>\n",
       "      <td>12</td>\n",
       "      <td>11140</td>\n",
       "      <td>중구</td>\n",
       "      <td>Jung-gu</td>\n",
       "      <td>11</td>\n",
       "      <td>37.557945</td>\n",
       "      <td>126.99419</td>\n",
       "    </tr>\n",
       "  </tbody>\n",
       "</table>\n",
       "</div>"
      ],
      "text/plain": [
       "    순번  시군구코드 시군구명_한글  시군구명_영문  ESRI_PK         위도         경도\n",
       "11  12  11140      중구  Jung-gu       11  37.557945  126.99419"
      ]
     },
     "execution_count": 48,
     "metadata": {},
     "output_type": "execute_result"
    }
   ],
   "source": [
    "CRS[CRS['시군구명_한글'] == '중구']"
   ]
  },
  {
   "cell_type": "markdown",
   "metadata": {
    "id": "jaDomFWdwUB0"
   },
   "source": [
    " "
   ]
  },
  {
   "cell_type": "markdown",
   "metadata": {
    "id": "S91ipBBnwUB0"
   },
   "source": [
    "이제 for 문을 사용하여 지역마다 확진자를 원형 마커를 사용하여 지도에 출력해 봅시다."
   ]
  },
  {
   "cell_type": "code",
   "execution_count": 49,
   "metadata": {
    "id": "gzf2yKxHwUB0",
    "outputId": "169cbfe8-7878-41d4-e7cf-018d00151cfb",
    "scrolled": false
   },
   "outputs": [
    {
     "name": "stderr",
     "output_type": "stream",
     "text": [
      "/home/elicer/.local/lib/python3.10/site-packages/folium/utilities.py:94: FutureWarning: Calling float on a single element Series is deprecated and will raise a TypeError in the future. Use float(ser.iloc[0]) instead\n",
      "  float(coord)\n",
      "/home/elicer/.local/lib/python3.10/site-packages/folium/utilities.py:100: FutureWarning: Calling float on a single element Series is deprecated and will raise a TypeError in the future. Use float(ser.iloc[0]) instead\n",
      "  if math.isnan(float(coord)):\n",
      "/home/elicer/.local/lib/python3.10/site-packages/folium/utilities.py:102: FutureWarning: Calling float on a single element Series is deprecated and will raise a TypeError in the future. Use float(ser.iloc[0]) instead\n",
      "  return [float(x) for x in coords]\n"
     ]
    },
    {
     "data": {
      "text/html": [
       "<div style=\"width:100%;\"><div style=\"position:relative;width:100%;height:0;padding-bottom:60%;\"><span style=\"color:#565656\">Make this Notebook Trusted to load map: File -> Trust Notebook</span><iframe srcdoc=\"&lt;!DOCTYPE html&gt;\n",
       "&lt;html&gt;\n",
       "&lt;head&gt;\n",
       "    \n",
       "    &lt;meta http-equiv=&quot;content-type&quot; content=&quot;text/html; charset=UTF-8&quot; /&gt;\n",
       "    \n",
       "        &lt;script&gt;\n",
       "            L_NO_TOUCH = false;\n",
       "            L_DISABLE_3D = false;\n",
       "        &lt;/script&gt;\n",
       "    \n",
       "    &lt;style&gt;html, body {width: 100%;height: 100%;margin: 0;padding: 0;}&lt;/style&gt;\n",
       "    &lt;style&gt;#map {position:absolute;top:0;bottom:0;right:0;left:0;}&lt;/style&gt;\n",
       "    &lt;script src=&quot;https://cdn.jsdelivr.net/npm/leaflet@1.9.3/dist/leaflet.js&quot;&gt;&lt;/script&gt;\n",
       "    &lt;script src=&quot;https://code.jquery.com/jquery-3.7.1.min.js&quot;&gt;&lt;/script&gt;\n",
       "    &lt;script src=&quot;https://cdn.jsdelivr.net/npm/bootstrap@5.2.2/dist/js/bootstrap.bundle.min.js&quot;&gt;&lt;/script&gt;\n",
       "    &lt;script src=&quot;https://cdnjs.cloudflare.com/ajax/libs/Leaflet.awesome-markers/2.0.2/leaflet.awesome-markers.js&quot;&gt;&lt;/script&gt;\n",
       "    &lt;link rel=&quot;stylesheet&quot; href=&quot;https://cdn.jsdelivr.net/npm/leaflet@1.9.3/dist/leaflet.css&quot;/&gt;\n",
       "    &lt;link rel=&quot;stylesheet&quot; href=&quot;https://cdn.jsdelivr.net/npm/bootstrap@5.2.2/dist/css/bootstrap.min.css&quot;/&gt;\n",
       "    &lt;link rel=&quot;stylesheet&quot; href=&quot;https://netdna.bootstrapcdn.com/bootstrap/3.0.0/css/bootstrap.min.css&quot;/&gt;\n",
       "    &lt;link rel=&quot;stylesheet&quot; href=&quot;https://cdn.jsdelivr.net/npm/@fortawesome/fontawesome-free@6.2.0/css/all.min.css&quot;/&gt;\n",
       "    &lt;link rel=&quot;stylesheet&quot; href=&quot;https://cdnjs.cloudflare.com/ajax/libs/Leaflet.awesome-markers/2.0.2/leaflet.awesome-markers.css&quot;/&gt;\n",
       "    &lt;link rel=&quot;stylesheet&quot; href=&quot;https://cdn.jsdelivr.net/gh/python-visualization/folium/folium/templates/leaflet.awesome.rotate.min.css&quot;/&gt;\n",
       "    \n",
       "            &lt;meta name=&quot;viewport&quot; content=&quot;width=device-width,\n",
       "                initial-scale=1.0, maximum-scale=1.0, user-scalable=no&quot; /&gt;\n",
       "            &lt;style&gt;\n",
       "                #map_ab57dd64cace7e63f58f6316ae40eae1 {\n",
       "                    position: relative;\n",
       "                    width: 100.0%;\n",
       "                    height: 100.0%;\n",
       "                    left: 0.0%;\n",
       "                    top: 0.0%;\n",
       "                }\n",
       "                .leaflet-container { font-size: 1rem; }\n",
       "            &lt;/style&gt;\n",
       "        \n",
       "&lt;/head&gt;\n",
       "&lt;body&gt;\n",
       "    \n",
       "    \n",
       "            &lt;div class=&quot;folium-map&quot; id=&quot;map_ab57dd64cace7e63f58f6316ae40eae1&quot; &gt;&lt;/div&gt;\n",
       "        \n",
       "&lt;/body&gt;\n",
       "&lt;script&gt;\n",
       "    \n",
       "    \n",
       "            var map_ab57dd64cace7e63f58f6316ae40eae1 = L.map(\n",
       "                &quot;map_ab57dd64cace7e63f58f6316ae40eae1&quot;,\n",
       "                {\n",
       "                    center: [37.557945, 126.99419],\n",
       "                    crs: L.CRS.EPSG3857,\n",
       "                    zoom: 11,\n",
       "                    zoomControl: true,\n",
       "                    preferCanvas: false,\n",
       "                }\n",
       "            );\n",
       "\n",
       "            \n",
       "\n",
       "        \n",
       "    \n",
       "            var tile_layer_6e2b81d02b8688d63897235549767978 = L.tileLayer(\n",
       "                &quot;https://tile.openstreetmap.org/{z}/{x}/{y}.png&quot;,\n",
       "                {&quot;attribution&quot;: &quot;\\u0026copy; \\u003ca href=\\&quot;https://www.openstreetmap.org/copyright\\&quot;\\u003eOpenStreetMap\\u003c/a\\u003e contributors&quot;, &quot;detectRetina&quot;: false, &quot;maxNativeZoom&quot;: 19, &quot;maxZoom&quot;: 19, &quot;minZoom&quot;: 0, &quot;noWrap&quot;: false, &quot;opacity&quot;: 1, &quot;subdomains&quot;: &quot;abc&quot;, &quot;tms&quot;: false}\n",
       "            );\n",
       "        \n",
       "    \n",
       "            tile_layer_6e2b81d02b8688d63897235549767978.addTo(map_ab57dd64cace7e63f58f6316ae40eae1);\n",
       "        \n",
       "    \n",
       "            var circle_marker_0cd73c4b1607421f1801d6283803c8e9 = L.circleMarker(\n",
       "                [37.5492077, 127.1464824],\n",
       "                {&quot;bubblingMouseEvents&quot;: true, &quot;color&quot;: &quot;#3186cc&quot;, &quot;dashArray&quot;: null, &quot;dashOffset&quot;: null, &quot;fill&quot;: true, &quot;fillColor&quot;: &quot;#3186cc&quot;, &quot;fillOpacity&quot;: 0.2, &quot;fillRule&quot;: &quot;evenodd&quot;, &quot;lineCap&quot;: &quot;round&quot;, &quot;lineJoin&quot;: &quot;round&quot;, &quot;opacity&quot;: 1.0, &quot;radius&quot;: 29.9, &quot;stroke&quot;: true, &quot;weight&quot;: 3}\n",
       "            ).addTo(map_ab57dd64cace7e63f58f6316ae40eae1);\n",
       "        \n",
       "    \n",
       "        var popup_07e6a3813b43c820391cffa46ec48171 = L.popup({&quot;maxWidth&quot;: &quot;100%&quot;});\n",
       "\n",
       "        \n",
       "            \n",
       "                var html_3f06e8dc69ae82f694b22e9bf9e2a706 = $(`&lt;div id=&quot;html_3f06e8dc69ae82f694b22e9bf9e2a706&quot; style=&quot;width: 100.0%; height: 100.0%;&quot;&gt;강동구 199 명&lt;/div&gt;`)[0];\n",
       "                popup_07e6a3813b43c820391cffa46ec48171.setContent(html_3f06e8dc69ae82f694b22e9bf9e2a706);\n",
       "            \n",
       "        \n",
       "\n",
       "        circle_marker_0cd73c4b1607421f1801d6283803c8e9.bindPopup(popup_07e6a3813b43c820391cffa46ec48171)\n",
       "        ;\n",
       "\n",
       "        \n",
       "    \n",
       "    \n",
       "            var circle_marker_491041bfd9e47e23578ffe7e506d24af = L.circleMarker(\n",
       "                [37.5953795, 127.0939669],\n",
       "                {&quot;bubblingMouseEvents&quot;: true, &quot;color&quot;: &quot;#3186cc&quot;, &quot;dashArray&quot;: null, &quot;dashOffset&quot;: null, &quot;fill&quot;: true, &quot;fillColor&quot;: &quot;#3186cc&quot;, &quot;fillOpacity&quot;: 0.2, &quot;fillRule&quot;: &quot;evenodd&quot;, &quot;lineCap&quot;: &quot;round&quot;, &quot;lineJoin&quot;: &quot;round&quot;, &quot;opacity&quot;: 1.0, &quot;radius&quot;: 30.2, &quot;stroke&quot;: true, &quot;weight&quot;: 3}\n",
       "            ).addTo(map_ab57dd64cace7e63f58f6316ae40eae1);\n",
       "        \n",
       "    \n",
       "        var popup_9d0f00f0f50f645453b300f07f7484c5 = L.popup({&quot;maxWidth&quot;: &quot;100%&quot;});\n",
       "\n",
       "        \n",
       "            \n",
       "                var html_ca7fd2c23aa6c6084724b4aa25c99833 = $(`&lt;div id=&quot;html_ca7fd2c23aa6c6084724b4aa25c99833&quot; style=&quot;width: 100.0%; height: 100.0%;&quot;&gt;중랑구 202 명&lt;/div&gt;`)[0];\n",
       "                popup_9d0f00f0f50f645453b300f07f7484c5.setContent(html_ca7fd2c23aa6c6084724b4aa25c99833);\n",
       "            \n",
       "        \n",
       "\n",
       "        circle_marker_491041bfd9e47e23578ffe7e506d24af.bindPopup(popup_9d0f00f0f50f645453b300f07f7484c5)\n",
       "        ;\n",
       "\n",
       "        \n",
       "    \n",
       "    \n",
       "            var circle_marker_2bb59a23c9e23a73c9100eee1fe6df02 = L.circleMarker(\n",
       "                [37.5820369, 126.9356665],\n",
       "                {&quot;bubblingMouseEvents&quot;: true, &quot;color&quot;: &quot;#3186cc&quot;, &quot;dashArray&quot;: null, &quot;dashOffset&quot;: null, &quot;fill&quot;: true, &quot;fillColor&quot;: &quot;#3186cc&quot;, &quot;fillOpacity&quot;: 0.2, &quot;fillRule&quot;: &quot;evenodd&quot;, &quot;lineCap&quot;: &quot;round&quot;, &quot;lineJoin&quot;: &quot;round&quot;, &quot;opacity&quot;: 1.0, &quot;radius&quot;: 23.5, &quot;stroke&quot;: true, &quot;weight&quot;: 3}\n",
       "            ).addTo(map_ab57dd64cace7e63f58f6316ae40eae1);\n",
       "        \n",
       "    \n",
       "        var popup_bb9193dd815a5da88e4546bdda57738a = L.popup({&quot;maxWidth&quot;: &quot;100%&quot;});\n",
       "\n",
       "        \n",
       "            \n",
       "                var html_0e18995d0745a4865293104287409bbd = $(`&lt;div id=&quot;html_0e18995d0745a4865293104287409bbd&quot; style=&quot;width: 100.0%; height: 100.0%;&quot;&gt;서대문구 135 명&lt;/div&gt;`)[0];\n",
       "                popup_bb9193dd815a5da88e4546bdda57738a.setContent(html_0e18995d0745a4865293104287409bbd);\n",
       "            \n",
       "        \n",
       "\n",
       "        circle_marker_2bb59a23c9e23a73c9100eee1fe6df02.bindPopup(popup_bb9193dd815a5da88e4546bdda57738a)\n",
       "        ;\n",
       "\n",
       "        \n",
       "    \n",
       "    \n",
       "            var circle_marker_8af57ebfa7170317910cc45f969fa83b = L.circleMarker(\n",
       "                [37.4954856, 126.858121],\n",
       "                {&quot;bubblingMouseEvents&quot;: true, &quot;color&quot;: &quot;#3186cc&quot;, &quot;dashArray&quot;: null, &quot;dashOffset&quot;: null, &quot;fill&quot;: true, &quot;fillColor&quot;: &quot;#3186cc&quot;, &quot;fillOpacity&quot;: 0.2, &quot;fillRule&quot;: &quot;evenodd&quot;, &quot;lineCap&quot;: &quot;round&quot;, &quot;lineJoin&quot;: &quot;round&quot;, &quot;opacity&quot;: 1.0, &quot;radius&quot;: 29.3, &quot;stroke&quot;: true, &quot;weight&quot;: 3}\n",
       "            ).addTo(map_ab57dd64cace7e63f58f6316ae40eae1);\n",
       "        \n",
       "    \n",
       "        var popup_c16d57fd9c569722074e56e7582263f3 = L.popup({&quot;maxWidth&quot;: &quot;100%&quot;});\n",
       "\n",
       "        \n",
       "            \n",
       "                var html_b17a3fce91c91b1b85fa14f69196d4b8 = $(`&lt;div id=&quot;html_b17a3fce91c91b1b85fa14f69196d4b8&quot; style=&quot;width: 100.0%; height: 100.0%;&quot;&gt;구로구 193 명&lt;/div&gt;`)[0];\n",
       "                popup_c16d57fd9c569722074e56e7582263f3.setContent(html_b17a3fce91c91b1b85fa14f69196d4b8);\n",
       "            \n",
       "        \n",
       "\n",
       "        circle_marker_8af57ebfa7170317910cc45f969fa83b.bindPopup(popup_c16d57fd9c569722074e56e7582263f3)\n",
       "        ;\n",
       "\n",
       "        \n",
       "    \n",
       "    \n",
       "            var circle_marker_83433082045d91afdcdc6a4d0739eab6 = L.circleMarker(\n",
       "                [37.655264, 127.0771201],\n",
       "                {&quot;bubblingMouseEvents&quot;: true, &quot;color&quot;: &quot;#3186cc&quot;, &quot;dashArray&quot;: null, &quot;dashOffset&quot;: null, &quot;fill&quot;: true, &quot;fillColor&quot;: &quot;#3186cc&quot;, &quot;fillOpacity&quot;: 0.2, &quot;fillRule&quot;: &quot;evenodd&quot;, &quot;lineCap&quot;: &quot;round&quot;, &quot;lineJoin&quot;: &quot;round&quot;, &quot;opacity&quot;: 1.0, &quot;radius&quot;: 42.3, &quot;stroke&quot;: true, &quot;weight&quot;: 3}\n",
       "            ).addTo(map_ab57dd64cace7e63f58f6316ae40eae1);\n",
       "        \n",
       "    \n",
       "        var popup_5669590d4216a8392b189b1cf4cc775f = L.popup({&quot;maxWidth&quot;: &quot;100%&quot;});\n",
       "\n",
       "        \n",
       "            \n",
       "                var html_4f5bcb0f49498ed03f25f0ade4ad0f4d = $(`&lt;div id=&quot;html_4f5bcb0f49498ed03f25f0ade4ad0f4d&quot; style=&quot;width: 100.0%; height: 100.0%;&quot;&gt;노원구 323 명&lt;/div&gt;`)[0];\n",
       "                popup_5669590d4216a8392b189b1cf4cc775f.setContent(html_4f5bcb0f49498ed03f25f0ade4ad0f4d);\n",
       "            \n",
       "        \n",
       "\n",
       "        circle_marker_83433082045d91afdcdc6a4d0739eab6.bindPopup(popup_5669590d4216a8392b189b1cf4cc775f)\n",
       "        ;\n",
       "\n",
       "        \n",
       "    \n",
       "    \n",
       "            var circle_marker_343a8ab8bf37d2890eea3270d2dbec98 = L.circleMarker(\n",
       "                [37.606991, 127.0232185],\n",
       "                {&quot;bubblingMouseEvents&quot;: true, &quot;color&quot;: &quot;#3186cc&quot;, &quot;dashArray&quot;: null, &quot;dashOffset&quot;: null, &quot;fill&quot;: true, &quot;fillColor&quot;: &quot;#3186cc&quot;, &quot;fillOpacity&quot;: 0.2, &quot;fillRule&quot;: &quot;evenodd&quot;, &quot;lineCap&quot;: &quot;round&quot;, &quot;lineJoin&quot;: &quot;round&quot;, &quot;opacity&quot;: 1.0, &quot;radius&quot;: 44.4, &quot;stroke&quot;: true, &quot;weight&quot;: 3}\n",
       "            ).addTo(map_ab57dd64cace7e63f58f6316ae40eae1);\n",
       "        \n",
       "    \n",
       "        var popup_a53a8cb78a426db6c08502e493dbabfd = L.popup({&quot;maxWidth&quot;: &quot;100%&quot;});\n",
       "\n",
       "        \n",
       "            \n",
       "                var html_cfd2d29dbd13773ed4ebab9bac4b5d53 = $(`&lt;div id=&quot;html_cfd2d29dbd13773ed4ebab9bac4b5d53&quot; style=&quot;width: 100.0%; height: 100.0%;&quot;&gt;성북구 344 명&lt;/div&gt;`)[0];\n",
       "                popup_a53a8cb78a426db6c08502e493dbabfd.setContent(html_cfd2d29dbd13773ed4ebab9bac4b5d53);\n",
       "            \n",
       "        \n",
       "\n",
       "        circle_marker_343a8ab8bf37d2890eea3270d2dbec98.bindPopup(popup_a53a8cb78a426db6c08502e493dbabfd)\n",
       "        ;\n",
       "\n",
       "        \n",
       "    \n",
       "    \n",
       "            var circle_marker_c9e215757fd79ff4e9dfeed0f7571828 = L.circleMarker(\n",
       "                [37.5622906, 126.9087803],\n",
       "                {&quot;bubblingMouseEvents&quot;: true, &quot;color&quot;: &quot;#3186cc&quot;, &quot;dashArray&quot;: null, &quot;dashOffset&quot;: null, &quot;fill&quot;: true, &quot;fillColor&quot;: &quot;#3186cc&quot;, &quot;fillOpacity&quot;: 0.2, &quot;fillRule&quot;: &quot;evenodd&quot;, &quot;lineCap&quot;: &quot;round&quot;, &quot;lineJoin&quot;: &quot;round&quot;, &quot;opacity&quot;: 1.0, &quot;radius&quot;: 28.0, &quot;stroke&quot;: true, &quot;weight&quot;: 3}\n",
       "            ).addTo(map_ab57dd64cace7e63f58f6316ae40eae1);\n",
       "        \n",
       "    \n",
       "        var popup_de98b1849d7dda233a23d97d691f2342 = L.popup({&quot;maxWidth&quot;: &quot;100%&quot;});\n",
       "\n",
       "        \n",
       "            \n",
       "                var html_490ba407477aedd904140ebfe34cf124 = $(`&lt;div id=&quot;html_490ba407477aedd904140ebfe34cf124&quot; style=&quot;width: 100.0%; height: 100.0%;&quot;&gt;마포구 180 명&lt;/div&gt;`)[0];\n",
       "                popup_de98b1849d7dda233a23d97d691f2342.setContent(html_490ba407477aedd904140ebfe34cf124);\n",
       "            \n",
       "        \n",
       "\n",
       "        circle_marker_c9e215757fd79ff4e9dfeed0f7571828.bindPopup(popup_de98b1849d7dda233a23d97d691f2342)\n",
       "        ;\n",
       "\n",
       "        \n",
       "    \n",
       "    \n",
       "            var circle_marker_0eb6860d61687b94fe6985d953d6da14 = L.circleMarker(\n",
       "                [37.4600969, 126.9001546],\n",
       "                {&quot;bubblingMouseEvents&quot;: true, &quot;color&quot;: &quot;#3186cc&quot;, &quot;dashArray&quot;: null, &quot;dashOffset&quot;: null, &quot;fill&quot;: true, &quot;fillColor&quot;: &quot;#3186cc&quot;, &quot;fillOpacity&quot;: 0.2, &quot;fillRule&quot;: &quot;evenodd&quot;, &quot;lineCap&quot;: &quot;round&quot;, &quot;lineJoin&quot;: &quot;round&quot;, &quot;opacity&quot;: 1.0, &quot;radius&quot;: 19.6, &quot;stroke&quot;: true, &quot;weight&quot;: 3}\n",
       "            ).addTo(map_ab57dd64cace7e63f58f6316ae40eae1);\n",
       "        \n",
       "    \n",
       "        var popup_25f83be5c357b6e30776f79d9c0cb45a = L.popup({&quot;maxWidth&quot;: &quot;100%&quot;});\n",
       "\n",
       "        \n",
       "            \n",
       "                var html_bdf11f1b2dc6b1d22aaa2f4d4d798f8d = $(`&lt;div id=&quot;html_bdf11f1b2dc6b1d22aaa2f4d4d798f8d&quot; style=&quot;width: 100.0%; height: 100.0%;&quot;&gt;금천구 96 명&lt;/div&gt;`)[0];\n",
       "                popup_25f83be5c357b6e30776f79d9c0cb45a.setContent(html_bdf11f1b2dc6b1d22aaa2f4d4d798f8d);\n",
       "            \n",
       "        \n",
       "\n",
       "        circle_marker_0eb6860d61687b94fe6985d953d6da14.bindPopup(popup_25f83be5c357b6e30776f79d9c0cb45a)\n",
       "        ;\n",
       "\n",
       "        \n",
       "    \n",
       "    \n",
       "            var circle_marker_14392e821aa6d505517e296cec546998 = L.circleMarker(\n",
       "                [37.4653993, 126.9438071],\n",
       "                {&quot;bubblingMouseEvents&quot;: true, &quot;color&quot;: &quot;#3186cc&quot;, &quot;dashArray&quot;: null, &quot;dashOffset&quot;: null, &quot;fill&quot;: true, &quot;fillColor&quot;: &quot;#3186cc&quot;, &quot;fillOpacity&quot;: 0.2, &quot;fillRule&quot;: &quot;evenodd&quot;, &quot;lineCap&quot;: &quot;round&quot;, &quot;lineJoin&quot;: &quot;round&quot;, &quot;opacity&quot;: 1.0, &quot;radius&quot;: 55.2, &quot;stroke&quot;: true, &quot;weight&quot;: 3}\n",
       "            ).addTo(map_ab57dd64cace7e63f58f6316ae40eae1);\n",
       "        \n",
       "    \n",
       "        var popup_8d6cac2461484f5b137aab9cceb534f4 = L.popup({&quot;maxWidth&quot;: &quot;100%&quot;});\n",
       "\n",
       "        \n",
       "            \n",
       "                var html_56982100686643a6d26c36ebae99ad8d = $(`&lt;div id=&quot;html_56982100686643a6d26c36ebae99ad8d&quot; style=&quot;width: 100.0%; height: 100.0%;&quot;&gt;관악구 452 명&lt;/div&gt;`)[0];\n",
       "                popup_8d6cac2461484f5b137aab9cceb534f4.setContent(html_56982100686643a6d26c36ebae99ad8d);\n",
       "            \n",
       "        \n",
       "\n",
       "        circle_marker_14392e821aa6d505517e296cec546998.bindPopup(popup_8d6cac2461484f5b137aab9cceb534f4)\n",
       "        ;\n",
       "\n",
       "        \n",
       "    \n",
       "    \n",
       "            var circle_marker_15ef61eda7a7c2a2a01d0a846127af6c = L.circleMarker(\n",
       "                [37.5048534, 127.1144822],\n",
       "                {&quot;bubblingMouseEvents&quot;: true, &quot;color&quot;: &quot;#3186cc&quot;, &quot;dashArray&quot;: null, &quot;dashOffset&quot;: null, &quot;fill&quot;: true, &quot;fillColor&quot;: &quot;#3186cc&quot;, &quot;fillOpacity&quot;: 0.2, &quot;fillRule&quot;: &quot;evenodd&quot;, &quot;lineCap&quot;: &quot;round&quot;, &quot;lineJoin&quot;: &quot;round&quot;, &quot;opacity&quot;: 1.0, &quot;radius&quot;: 46.1, &quot;stroke&quot;: true, &quot;weight&quot;: 3}\n",
       "            ).addTo(map_ab57dd64cace7e63f58f6316ae40eae1);\n",
       "        \n",
       "    \n",
       "        var popup_d731dec8f8437a29439712dac8d55269 = L.popup({&quot;maxWidth&quot;: &quot;100%&quot;});\n",
       "\n",
       "        \n",
       "            \n",
       "                var html_b6dfc17c900ff6def95954413421ea7b = $(`&lt;div id=&quot;html_b6dfc17c900ff6def95954413421ea7b&quot; style=&quot;width: 100.0%; height: 100.0%;&quot;&gt;송파구 361 명&lt;/div&gt;`)[0];\n",
       "                popup_d731dec8f8437a29439712dac8d55269.setContent(html_b6dfc17c900ff6def95954413421ea7b);\n",
       "            \n",
       "        \n",
       "\n",
       "        circle_marker_15ef61eda7a7c2a2a01d0a846127af6c.bindPopup(popup_d731dec8f8437a29439712dac8d55269)\n",
       "        ;\n",
       "\n",
       "        \n",
       "    \n",
       "    \n",
       "            var circle_marker_75d51c52e0680a9b87663dd04b30dd99 = L.circleMarker(\n",
       "                [37.4769528, 127.0378103],\n",
       "                {&quot;bubblingMouseEvents&quot;: true, &quot;color&quot;: &quot;#3186cc&quot;, &quot;dashArray&quot;: null, &quot;dashOffset&quot;: null, &quot;fill&quot;: true, &quot;fillColor&quot;: &quot;#3186cc&quot;, &quot;fillOpacity&quot;: 0.2, &quot;fillRule&quot;: &quot;evenodd&quot;, &quot;lineCap&quot;: &quot;round&quot;, &quot;lineJoin&quot;: &quot;round&quot;, &quot;opacity&quot;: 1.0, &quot;radius&quot;: 31.0, &quot;stroke&quot;: true, &quot;weight&quot;: 3}\n",
       "            ).addTo(map_ab57dd64cace7e63f58f6316ae40eae1);\n",
       "        \n",
       "    \n",
       "        var popup_7977d5804f09ec217d3f845b5c29a43b = L.popup({&quot;maxWidth&quot;: &quot;100%&quot;});\n",
       "\n",
       "        \n",
       "            \n",
       "                var html_346274fad632d487bdd2cdde82fafcfa = $(`&lt;div id=&quot;html_346274fad632d487bdd2cdde82fafcfa&quot; style=&quot;width: 100.0%; height: 100.0%;&quot;&gt;서초구 210 명&lt;/div&gt;`)[0];\n",
       "                popup_7977d5804f09ec217d3f845b5c29a43b.setContent(html_346274fad632d487bdd2cdde82fafcfa);\n",
       "            \n",
       "        \n",
       "\n",
       "        circle_marker_75d51c52e0680a9b87663dd04b30dd99.bindPopup(popup_7977d5804f09ec217d3f845b5c29a43b)\n",
       "        ;\n",
       "\n",
       "        \n",
       "    \n",
       "    \n",
       "            var circle_marker_50a8a5276535d221f84fdb82876335a0 = L.circleMarker(\n",
       "                [37.520641, 126.9139242],\n",
       "                {&quot;bubblingMouseEvents&quot;: true, &quot;color&quot;: &quot;#3186cc&quot;, &quot;dashArray&quot;: null, &quot;dashOffset&quot;: null, &quot;fill&quot;: true, &quot;fillColor&quot;: &quot;#3186cc&quot;, &quot;fillOpacity&quot;: 0.2, &quot;fillRule&quot;: &quot;evenodd&quot;, &quot;lineCap&quot;: &quot;round&quot;, &quot;lineJoin&quot;: &quot;round&quot;, &quot;opacity&quot;: 1.0, &quot;radius&quot;: 30.0, &quot;stroke&quot;: true, &quot;weight&quot;: 3}\n",
       "            ).addTo(map_ab57dd64cace7e63f58f6316ae40eae1);\n",
       "        \n",
       "    \n",
       "        var popup_fdf59cbd8f4be77847871966c1fe8aab = L.popup({&quot;maxWidth&quot;: &quot;100%&quot;});\n",
       "\n",
       "        \n",
       "            \n",
       "                var html_56f78d7bbf9c6b21f1b75086082967c3 = $(`&lt;div id=&quot;html_56f78d7bbf9c6b21f1b75086082967c3&quot; style=&quot;width: 100.0%; height: 100.0%;&quot;&gt;영등포구 200 명&lt;/div&gt;`)[0];\n",
       "                popup_fdf59cbd8f4be77847871966c1fe8aab.setContent(html_56f78d7bbf9c6b21f1b75086082967c3);\n",
       "            \n",
       "        \n",
       "\n",
       "        circle_marker_50a8a5276535d221f84fdb82876335a0.bindPopup(popup_fdf59cbd8f4be77847871966c1fe8aab)\n",
       "        ;\n",
       "\n",
       "        \n",
       "    \n",
       "    \n",
       "            var circle_marker_87320ae8feeca7b035aef8d92975a46b = L.circleMarker(\n",
       "                [37.5838012, 127.0507003],\n",
       "                {&quot;bubblingMouseEvents&quot;: true, &quot;color&quot;: &quot;#3186cc&quot;, &quot;dashArray&quot;: null, &quot;dashOffset&quot;: null, &quot;fill&quot;: true, &quot;fillColor&quot;: &quot;#3186cc&quot;, &quot;fillOpacity&quot;: 0.2, &quot;fillRule&quot;: &quot;evenodd&quot;, &quot;lineCap&quot;: &quot;round&quot;, &quot;lineJoin&quot;: &quot;round&quot;, &quot;opacity&quot;: 1.0, &quot;radius&quot;: 27.2, &quot;stroke&quot;: true, &quot;weight&quot;: 3}\n",
       "            ).addTo(map_ab57dd64cace7e63f58f6316ae40eae1);\n",
       "        \n",
       "    \n",
       "        var popup_c2eb52c4ca1662c315d562940b4e554f = L.popup({&quot;maxWidth&quot;: &quot;100%&quot;});\n",
       "\n",
       "        \n",
       "            \n",
       "                var html_ae415f5b305203481cd36e180adb7f63 = $(`&lt;div id=&quot;html_ae415f5b305203481cd36e180adb7f63&quot; style=&quot;width: 100.0%; height: 100.0%;&quot;&gt;동대문구 172 명&lt;/div&gt;`)[0];\n",
       "                popup_c2eb52c4ca1662c315d562940b4e554f.setContent(html_ae415f5b305203481cd36e180adb7f63);\n",
       "            \n",
       "        \n",
       "\n",
       "        circle_marker_87320ae8feeca7b035aef8d92975a46b.bindPopup(popup_c2eb52c4ca1662c315d562940b4e554f)\n",
       "        ;\n",
       "\n",
       "        \n",
       "    \n",
       "    \n",
       "            var circle_marker_d2afa59fe2d4ffbec7c526c6e2c10120 = L.circleMarker(\n",
       "                [37.5506753, 127.0409622],\n",
       "                {&quot;bubblingMouseEvents&quot;: true, &quot;color&quot;: &quot;#3186cc&quot;, &quot;dashArray&quot;: null, &quot;dashOffset&quot;: null, &quot;fill&quot;: true, &quot;fillColor&quot;: &quot;#3186cc&quot;, &quot;fillOpacity&quot;: 0.2, &quot;fillRule&quot;: &quot;evenodd&quot;, &quot;lineCap&quot;: &quot;round&quot;, &quot;lineJoin&quot;: &quot;round&quot;, &quot;opacity&quot;: 1.0, &quot;radius&quot;: 23.0, &quot;stroke&quot;: true, &quot;weight&quot;: 3}\n",
       "            ).addTo(map_ab57dd64cace7e63f58f6316ae40eae1);\n",
       "        \n",
       "    \n",
       "        var popup_35370862f4a8fd4c7816f2e37a72d499 = L.popup({&quot;maxWidth&quot;: &quot;100%&quot;});\n",
       "\n",
       "        \n",
       "            \n",
       "                var html_4aa98da742f03202e7bc2055efd94aad = $(`&lt;div id=&quot;html_4aa98da742f03202e7bc2055efd94aad&quot; style=&quot;width: 100.0%; height: 100.0%;&quot;&gt;성동구 130 명&lt;/div&gt;`)[0];\n",
       "                popup_35370862f4a8fd4c7816f2e37a72d499.setContent(html_4aa98da742f03202e7bc2055efd94aad);\n",
       "            \n",
       "        \n",
       "\n",
       "        circle_marker_d2afa59fe2d4ffbec7c526c6e2c10120.bindPopup(popup_35370862f4a8fd4c7816f2e37a72d499)\n",
       "        ;\n",
       "\n",
       "        \n",
       "    \n",
       "    \n",
       "            var circle_marker_5e967220be3bedd5aa3dce96f1378643 = L.circleMarker(\n",
       "                [37.4965037, 126.9443073],\n",
       "                {&quot;bubblingMouseEvents&quot;: true, &quot;color&quot;: &quot;#3186cc&quot;, &quot;dashArray&quot;: null, &quot;dashOffset&quot;: null, &quot;fill&quot;: true, &quot;fillColor&quot;: &quot;#3186cc&quot;, &quot;fillOpacity&quot;: 0.2, &quot;fillRule&quot;: &quot;evenodd&quot;, &quot;lineCap&quot;: &quot;round&quot;, &quot;lineJoin&quot;: &quot;round&quot;, &quot;opacity&quot;: 1.0, &quot;radius&quot;: 35.4, &quot;stroke&quot;: true, &quot;weight&quot;: 3}\n",
       "            ).addTo(map_ab57dd64cace7e63f58f6316ae40eae1);\n",
       "        \n",
       "    \n",
       "        var popup_b9fc01beb839f07c0bb4e9337d6f8c7e = L.popup({&quot;maxWidth&quot;: &quot;100%&quot;});\n",
       "\n",
       "        \n",
       "            \n",
       "                var html_ee473eeec4759040da150b60caea3e4b = $(`&lt;div id=&quot;html_ee473eeec4759040da150b60caea3e4b&quot; style=&quot;width: 100.0%; height: 100.0%;&quot;&gt;동작구 254 명&lt;/div&gt;`)[0];\n",
       "                popup_b9fc01beb839f07c0bb4e9337d6f8c7e.setContent(html_ee473eeec4759040da150b60caea3e4b);\n",
       "            \n",
       "        \n",
       "\n",
       "        circle_marker_5e967220be3bedd5aa3dce96f1378643.bindPopup(popup_b9fc01beb839f07c0bb4e9337d6f8c7e)\n",
       "        ;\n",
       "\n",
       "        \n",
       "    \n",
       "    \n",
       "            var circle_marker_d632bb0b6c62fc87902aa0704c0135a1 = L.circleMarker(\n",
       "                [37.4959854, 127.0664091],\n",
       "                {&quot;bubblingMouseEvents&quot;: true, &quot;color&quot;: &quot;#3186cc&quot;, &quot;dashArray&quot;: null, &quot;dashOffset&quot;: null, &quot;fill&quot;: true, &quot;fillColor&quot;: &quot;#3186cc&quot;, &quot;fillOpacity&quot;: 0.2, &quot;fillRule&quot;: &quot;evenodd&quot;, &quot;lineCap&quot;: &quot;round&quot;, &quot;lineJoin&quot;: &quot;round&quot;, &quot;opacity&quot;: 1.0, &quot;radius&quot;: 39.6, &quot;stroke&quot;: true, &quot;weight&quot;: 3}\n",
       "            ).addTo(map_ab57dd64cace7e63f58f6316ae40eae1);\n",
       "        \n",
       "    \n",
       "        var popup_fc37dec6019dda0f289c8d0e7badd393 = L.popup({&quot;maxWidth&quot;: &quot;100%&quot;});\n",
       "\n",
       "        \n",
       "            \n",
       "                var html_c5e601fcf0f1f1645fb07333bb6b15b1 = $(`&lt;div id=&quot;html_c5e601fcf0f1f1645fb07333bb6b15b1&quot; style=&quot;width: 100.0%; height: 100.0%;&quot;&gt;강남구 296 명&lt;/div&gt;`)[0];\n",
       "                popup_fc37dec6019dda0f289c8d0e7badd393.setContent(html_c5e601fcf0f1f1645fb07333bb6b15b1);\n",
       "            \n",
       "        \n",
       "\n",
       "        circle_marker_d632bb0b6c62fc87902aa0704c0135a1.bindPopup(popup_fc37dec6019dda0f289c8d0e7badd393)\n",
       "        ;\n",
       "\n",
       "        \n",
       "    \n",
       "    \n",
       "            var circle_marker_99a932f044f70ce0479488ffeffa24e5 = L.circleMarker(\n",
       "                [37.5657617, 126.8226561],\n",
       "                {&quot;bubblingMouseEvents&quot;: true, &quot;color&quot;: &quot;#3186cc&quot;, &quot;dashArray&quot;: null, &quot;dashOffset&quot;: null, &quot;fill&quot;: true, &quot;fillColor&quot;: &quot;#3186cc&quot;, &quot;fillOpacity&quot;: 0.2, &quot;fillRule&quot;: &quot;evenodd&quot;, &quot;lineCap&quot;: &quot;round&quot;, &quot;lineJoin&quot;: &quot;round&quot;, &quot;opacity&quot;: 1.0, &quot;radius&quot;: 39.5, &quot;stroke&quot;: true, &quot;weight&quot;: 3}\n",
       "            ).addTo(map_ab57dd64cace7e63f58f6316ae40eae1);\n",
       "        \n",
       "    \n",
       "        var popup_7f6117aff04478821f490af1aad31d23 = L.popup({&quot;maxWidth&quot;: &quot;100%&quot;});\n",
       "\n",
       "        \n",
       "            \n",
       "                var html_ebf2ddadb56b54aab5cbaa0cce12f4b6 = $(`&lt;div id=&quot;html_ebf2ddadb56b54aab5cbaa0cce12f4b6&quot; style=&quot;width: 100.0%; height: 100.0%;&quot;&gt;강서구 295 명&lt;/div&gt;`)[0];\n",
       "                popup_7f6117aff04478821f490af1aad31d23.setContent(html_ebf2ddadb56b54aab5cbaa0cce12f4b6);\n",
       "            \n",
       "        \n",
       "\n",
       "        circle_marker_99a932f044f70ce0479488ffeffa24e5.bindPopup(popup_7f6117aff04478821f490af1aad31d23)\n",
       "        ;\n",
       "\n",
       "        \n",
       "    \n",
       "    \n",
       "            var circle_marker_191d0881941d2153604ba0be58ab9abf = L.circleMarker(\n",
       "                [37.5990998, 126.9861493],\n",
       "                {&quot;bubblingMouseEvents&quot;: true, &quot;color&quot;: &quot;#3186cc&quot;, &quot;dashArray&quot;: null, &quot;dashOffset&quot;: null, &quot;fill&quot;: true, &quot;fillColor&quot;: &quot;#3186cc&quot;, &quot;fillOpacity&quot;: 0.2, &quot;fillRule&quot;: &quot;evenodd&quot;, &quot;lineCap&quot;: &quot;round&quot;, &quot;lineJoin&quot;: &quot;round&quot;, &quot;opacity&quot;: 1.0, &quot;radius&quot;: 19.4, &quot;stroke&quot;: true, &quot;weight&quot;: 3}\n",
       "            ).addTo(map_ab57dd64cace7e63f58f6316ae40eae1);\n",
       "        \n",
       "    \n",
       "        var popup_c0d5d825166750a1dd5732bde41c1c59 = L.popup({&quot;maxWidth&quot;: &quot;100%&quot;});\n",
       "\n",
       "        \n",
       "            \n",
       "                var html_76cc0bb46c48a20c7b93893803fea7bb = $(`&lt;div id=&quot;html_76cc0bb46c48a20c7b93893803fea7bb&quot; style=&quot;width: 100.0%; height: 100.0%;&quot;&gt;종로구 94 명&lt;/div&gt;`)[0];\n",
       "                popup_c0d5d825166750a1dd5732bde41c1c59.setContent(html_76cc0bb46c48a20c7b93893803fea7bb);\n",
       "            \n",
       "        \n",
       "\n",
       "        circle_marker_191d0881941d2153604ba0be58ab9abf.bindPopup(popup_c0d5d825166750a1dd5732bde41c1c59)\n",
       "        ;\n",
       "\n",
       "        \n",
       "    \n",
       "    \n",
       "            var circle_marker_d3da8c2e9b809dc095cf01fe8e2dd0a4 = L.circleMarker(\n",
       "                [37.6469954, 127.0147158],\n",
       "                {&quot;bubblingMouseEvents&quot;: true, &quot;color&quot;: &quot;#3186cc&quot;, &quot;dashArray&quot;: null, &quot;dashOffset&quot;: null, &quot;fill&quot;: true, &quot;fillColor&quot;: &quot;#3186cc&quot;, &quot;fillOpacity&quot;: 0.2, &quot;fillRule&quot;: &quot;evenodd&quot;, &quot;lineCap&quot;: &quot;round&quot;, &quot;lineJoin&quot;: &quot;round&quot;, &quot;opacity&quot;: 1.0, &quot;radius&quot;: 25.6, &quot;stroke&quot;: true, &quot;weight&quot;: 3}\n",
       "            ).addTo(map_ab57dd64cace7e63f58f6316ae40eae1);\n",
       "        \n",
       "    \n",
       "        var popup_61033a925a4cd520aef8cd4c0a96e90d = L.popup({&quot;maxWidth&quot;: &quot;100%&quot;});\n",
       "\n",
       "        \n",
       "            \n",
       "                var html_317bbbfa93c826e198f41b36a7f0059c = $(`&lt;div id=&quot;html_317bbbfa93c826e198f41b36a7f0059c&quot; style=&quot;width: 100.0%; height: 100.0%;&quot;&gt;강북구 156 명&lt;/div&gt;`)[0];\n",
       "                popup_61033a925a4cd520aef8cd4c0a96e90d.setContent(html_317bbbfa93c826e198f41b36a7f0059c);\n",
       "            \n",
       "        \n",
       "\n",
       "        circle_marker_d3da8c2e9b809dc095cf01fe8e2dd0a4.bindPopup(popup_61033a925a4cd520aef8cd4c0a96e90d)\n",
       "        ;\n",
       "\n",
       "        \n",
       "    \n",
       "    \n",
       "            var circle_marker_828212314aeae1acbb8a09e7ddfc941b = L.circleMarker(\n",
       "                [37.6658609, 127.0317674],\n",
       "                {&quot;bubblingMouseEvents&quot;: true, &quot;color&quot;: &quot;#3186cc&quot;, &quot;dashArray&quot;: null, &quot;dashOffset&quot;: null, &quot;fill&quot;: true, &quot;fillColor&quot;: &quot;#3186cc&quot;, &quot;fillOpacity&quot;: 0.2, &quot;fillRule&quot;: &quot;evenodd&quot;, &quot;lineCap&quot;: &quot;round&quot;, &quot;lineJoin&quot;: &quot;round&quot;, &quot;opacity&quot;: 1.0, &quot;radius&quot;: 32.3, &quot;stroke&quot;: true, &quot;weight&quot;: 3}\n",
       "            ).addTo(map_ab57dd64cace7e63f58f6316ae40eae1);\n",
       "        \n",
       "    \n",
       "        var popup_600ef30bcee472fa53c81511421529df = L.popup({&quot;maxWidth&quot;: &quot;100%&quot;});\n",
       "\n",
       "        \n",
       "            \n",
       "                var html_9d9307031138062b1e4f70395989504c = $(`&lt;div id=&quot;html_9d9307031138062b1e4f70395989504c&quot; style=&quot;width: 100.0%; height: 100.0%;&quot;&gt;도봉구 223 명&lt;/div&gt;`)[0];\n",
       "                popup_600ef30bcee472fa53c81511421529df.setContent(html_9d9307031138062b1e4f70395989504c);\n",
       "            \n",
       "        \n",
       "\n",
       "        circle_marker_828212314aeae1acbb8a09e7ddfc941b.bindPopup(popup_600ef30bcee472fa53c81511421529df)\n",
       "        ;\n",
       "\n",
       "        \n",
       "    \n",
       "    \n",
       "            var circle_marker_06778e11959ab18ab13b6b09a949ab75 = L.circleMarker(\n",
       "                [37.5579452, 126.9941904],\n",
       "                {&quot;bubblingMouseEvents&quot;: true, &quot;color&quot;: &quot;#3186cc&quot;, &quot;dashArray&quot;: null, &quot;dashOffset&quot;: null, &quot;fill&quot;: true, &quot;fillColor&quot;: &quot;#3186cc&quot;, &quot;fillOpacity&quot;: 0.2, &quot;fillRule&quot;: &quot;evenodd&quot;, &quot;lineCap&quot;: &quot;round&quot;, &quot;lineJoin&quot;: &quot;round&quot;, &quot;opacity&quot;: 1.0, &quot;radius&quot;: 16.4, &quot;stroke&quot;: true, &quot;weight&quot;: 3}\n",
       "            ).addTo(map_ab57dd64cace7e63f58f6316ae40eae1);\n",
       "        \n",
       "    \n",
       "        var popup_018e2a35842ab73c3bbad5b2d3e86a20 = L.popup({&quot;maxWidth&quot;: &quot;100%&quot;});\n",
       "\n",
       "        \n",
       "            \n",
       "                var html_c8beb9c395cdd07c7b856bf0c41b97c1 = $(`&lt;div id=&quot;html_c8beb9c395cdd07c7b856bf0c41b97c1&quot; style=&quot;width: 100.0%; height: 100.0%;&quot;&gt;중구 64 명&lt;/div&gt;`)[0];\n",
       "                popup_018e2a35842ab73c3bbad5b2d3e86a20.setContent(html_c8beb9c395cdd07c7b856bf0c41b97c1);\n",
       "            \n",
       "        \n",
       "\n",
       "        circle_marker_06778e11959ab18ab13b6b09a949ab75.bindPopup(popup_018e2a35842ab73c3bbad5b2d3e86a20)\n",
       "        ;\n",
       "\n",
       "        \n",
       "    \n",
       "    \n",
       "            var circle_marker_beeea998773a1e293a1e589b93915796 = L.circleMarker(\n",
       "                [37.5311008, 126.9810742],\n",
       "                {&quot;bubblingMouseEvents&quot;: true, &quot;color&quot;: &quot;#3186cc&quot;, &quot;dashArray&quot;: null, &quot;dashOffset&quot;: null, &quot;fill&quot;: true, &quot;fillColor&quot;: &quot;#3186cc&quot;, &quot;fillOpacity&quot;: 0.2, &quot;fillRule&quot;: &quot;evenodd&quot;, &quot;lineCap&quot;: &quot;round&quot;, &quot;lineJoin&quot;: &quot;round&quot;, &quot;opacity&quot;: 1.0, &quot;radius&quot;: 24.0, &quot;stroke&quot;: true, &quot;weight&quot;: 3}\n",
       "            ).addTo(map_ab57dd64cace7e63f58f6316ae40eae1);\n",
       "        \n",
       "    \n",
       "        var popup_4a0e8b0c0f6213faaed547cbb1be386e = L.popup({&quot;maxWidth&quot;: &quot;100%&quot;});\n",
       "\n",
       "        \n",
       "            \n",
       "                var html_6f911976bb7fd81d8503a82d59e486af = $(`&lt;div id=&quot;html_6f911976bb7fd81d8503a82d59e486af&quot; style=&quot;width: 100.0%; height: 100.0%;&quot;&gt;용산구 140 명&lt;/div&gt;`)[0];\n",
       "                popup_4a0e8b0c0f6213faaed547cbb1be386e.setContent(html_6f911976bb7fd81d8503a82d59e486af);\n",
       "            \n",
       "        \n",
       "\n",
       "        circle_marker_beeea998773a1e293a1e589b93915796.bindPopup(popup_4a0e8b0c0f6213faaed547cbb1be386e)\n",
       "        ;\n",
       "\n",
       "        \n",
       "    \n",
       "    \n",
       "            var circle_marker_fe1381ac4b5719da73a6b331edc90eb8 = L.circleMarker(\n",
       "                [37.5481445, 127.0857528],\n",
       "                {&quot;bubblingMouseEvents&quot;: true, &quot;color&quot;: &quot;#3186cc&quot;, &quot;dashArray&quot;: null, &quot;dashOffset&quot;: null, &quot;fill&quot;: true, &quot;fillColor&quot;: &quot;#3186cc&quot;, &quot;fillOpacity&quot;: 0.2, &quot;fillRule&quot;: &quot;evenodd&quot;, &quot;lineCap&quot;: &quot;round&quot;, &quot;lineJoin&quot;: &quot;round&quot;, &quot;opacity&quot;: 1.0, &quot;radius&quot;: 23.6, &quot;stroke&quot;: true, &quot;weight&quot;: 3}\n",
       "            ).addTo(map_ab57dd64cace7e63f58f6316ae40eae1);\n",
       "        \n",
       "    \n",
       "        var popup_7ad8e8b9eeb1e1abf12e5b54e38dbb21 = L.popup({&quot;maxWidth&quot;: &quot;100%&quot;});\n",
       "\n",
       "        \n",
       "            \n",
       "                var html_545c50c4ba5aa01738d935357ade08d9 = $(`&lt;div id=&quot;html_545c50c4ba5aa01738d935357ade08d9&quot; style=&quot;width: 100.0%; height: 100.0%;&quot;&gt;광진구 136 명&lt;/div&gt;`)[0];\n",
       "                popup_7ad8e8b9eeb1e1abf12e5b54e38dbb21.setContent(html_545c50c4ba5aa01738d935357ade08d9);\n",
       "            \n",
       "        \n",
       "\n",
       "        circle_marker_fe1381ac4b5719da73a6b331edc90eb8.bindPopup(popup_7ad8e8b9eeb1e1abf12e5b54e38dbb21)\n",
       "        ;\n",
       "\n",
       "        \n",
       "    \n",
       "    \n",
       "            var circle_marker_7135a695438ec42255bd49c7b7626603 = L.circleMarker(\n",
       "                [37.5270616, 126.8561534],\n",
       "                {&quot;bubblingMouseEvents&quot;: true, &quot;color&quot;: &quot;#3186cc&quot;, &quot;dashArray&quot;: null, &quot;dashOffset&quot;: null, &quot;fill&quot;: true, &quot;fillColor&quot;: &quot;#3186cc&quot;, &quot;fillOpacity&quot;: 0.2, &quot;fillRule&quot;: &quot;evenodd&quot;, &quot;lineCap&quot;: &quot;round&quot;, &quot;lineJoin&quot;: &quot;round&quot;, &quot;opacity&quot;: 1.0, &quot;radius&quot;: 28.6, &quot;stroke&quot;: true, &quot;weight&quot;: 3}\n",
       "            ).addTo(map_ab57dd64cace7e63f58f6316ae40eae1);\n",
       "        \n",
       "    \n",
       "        var popup_87a0f7e728d6104db4b0d07b696b2ea7 = L.popup({&quot;maxWidth&quot;: &quot;100%&quot;});\n",
       "\n",
       "        \n",
       "            \n",
       "                var html_a38b40a06fff58fd25e12a59fa247575 = $(`&lt;div id=&quot;html_a38b40a06fff58fd25e12a59fa247575&quot; style=&quot;width: 100.0%; height: 100.0%;&quot;&gt;양천구 186 명&lt;/div&gt;`)[0];\n",
       "                popup_87a0f7e728d6104db4b0d07b696b2ea7.setContent(html_a38b40a06fff58fd25e12a59fa247575);\n",
       "            \n",
       "        \n",
       "\n",
       "        circle_marker_7135a695438ec42255bd49c7b7626603.bindPopup(popup_87a0f7e728d6104db4b0d07b696b2ea7)\n",
       "        ;\n",
       "\n",
       "        \n",
       "    \n",
       "    \n",
       "            var circle_marker_1f62fa8234e72ca7c12282d29296d927 = L.circleMarker(\n",
       "                [37.6176125, 126.9227004],\n",
       "                {&quot;bubblingMouseEvents&quot;: true, &quot;color&quot;: &quot;#3186cc&quot;, &quot;dashArray&quot;: null, &quot;dashOffset&quot;: null, &quot;fill&quot;: true, &quot;fillColor&quot;: &quot;#3186cc&quot;, &quot;fillOpacity&quot;: 0.2, &quot;fillRule&quot;: &quot;evenodd&quot;, &quot;lineCap&quot;: &quot;round&quot;, &quot;lineJoin&quot;: &quot;round&quot;, &quot;opacity&quot;: 1.0, &quot;radius&quot;: 35.9, &quot;stroke&quot;: true, &quot;weight&quot;: 3}\n",
       "            ).addTo(map_ab57dd64cace7e63f58f6316ae40eae1);\n",
       "        \n",
       "    \n",
       "        var popup_5cd3a66db52204ee74b46797164f8d31 = L.popup({&quot;maxWidth&quot;: &quot;100%&quot;});\n",
       "\n",
       "        \n",
       "            \n",
       "                var html_b57d9f23ef094b1f09618017709c5cb0 = $(`&lt;div id=&quot;html_b57d9f23ef094b1f09618017709c5cb0&quot; style=&quot;width: 100.0%; height: 100.0%;&quot;&gt;은평구 259 명&lt;/div&gt;`)[0];\n",
       "                popup_5cd3a66db52204ee74b46797164f8d31.setContent(html_b57d9f23ef094b1f09618017709c5cb0);\n",
       "            \n",
       "        \n",
       "\n",
       "        circle_marker_1f62fa8234e72ca7c12282d29296d927.bindPopup(popup_5cd3a66db52204ee74b46797164f8d31)\n",
       "        ;\n",
       "\n",
       "        \n",
       "    \n",
       "&lt;/script&gt;\n",
       "&lt;/html&gt;\" style=\"position:absolute;width:100%;height:100%;left:0;top:0;border:none !important;\" allowfullscreen webkitallowfullscreen mozallowfullscreen></iframe></div></div>"
      ],
      "text/plain": [
       "<folium.folium.Map at 0x7f2ffc807850>"
      ]
     },
     "execution_count": 49,
     "metadata": {},
     "output_type": "execute_result"
    }
   ],
   "source": [
    "# corona_out_region의 지역에는 'oo구' 이외로 `타시도`, `기타`에 해당되는 데이터가 존재 합니다.\n",
    "# 위 데이터에 해당되는 위도, 경도를 찾을 수 없기에 삭제하여 corona_seoul로 저장합니다.\n",
    "corona_seoul = corona_out_region.drop(corona_out_region[corona_out_region['지역'] == '타시도'].index)\n",
    "corona_seoul = corona_seoul.drop(corona_out_region[corona_out_region['지역'] == '기타'].index)\n",
    "\n",
    "# 서울 중심지 중구를 가운데 좌표로 잡아 지도를 출력합니다.\n",
    "map_osm = folium.Map(location=[37.557945, 126.99419], zoom_start=11)\n",
    "\n",
    "# 지역 정보를 set 함수를 사용하여 25개 고유의 지역을 뽑아냅니다.\n",
    "for region in set(corona_seoul['지역']):\n",
    "\n",
    "    # 해당 지역의 데이터 개수를 count에 저장합니다.\n",
    "    count = len(corona_seoul[corona_seoul['지역'] == region])\n",
    "    # 해당 지역의 데이터를 CRS에서 뽑아냅니다.\n",
    "    CRS_region = CRS[CRS['시군구명_한글'] == region]\n",
    "\n",
    "    # CircleMarker를 사용하여 지역마다 원형마커를 생성합니다.\n",
    "    marker = folium.CircleMarker([CRS_region['위도'], CRS_region['경도']], # 위치\n",
    "                                  radius=count/10 + 10,                 # 범위\n",
    "                                  color='#3186cc',            # 선 색상\n",
    "                                  fill_color='#3186cc',       # 면 색상\n",
    "                                  popup=' '.join((region, str(count), '명'))) # 팝업 설정\n",
    "    \n",
    "    # 생성한 원형마커를 지도에 추가합니다.\n",
    "    marker.add_to(map_osm)\n",
    "\n",
    "map_osm"
   ]
  },
  {
   "cell_type": "markdown",
   "metadata": {
    "id": "vEHBzAfGwUB0"
   },
   "source": [
    "#### 퀴즈 2. 6월에 확진자가 가장 많이 나온 지역을 구하세요."
   ]
  },
  {
   "cell_type": "code",
   "execution_count": 56,
   "metadata": {
    "id": "gqM0layfwUB0",
    "scrolled": false
   },
   "outputs": [
    {
     "data": {
      "text/plain": [
       "지역\n",
       "관악구     59\n",
       "구로구     45\n",
       "양천구     43\n",
       "도봉구     43\n",
       "강서구     33\n",
       "영등포구    29\n",
       "타시도     23\n",
       "은평구     18\n",
       "금천구     17\n",
       "서초구     15\n",
       "중랑구     14\n",
       "노원구     13\n",
       "동작구     13\n",
       "마포구     12\n",
       "용산구     12\n",
       "강동구     11\n",
       "강북구     10\n",
       "성동구      9\n",
       "서대문구     8\n",
       "강남구      7\n",
       "송파구      7\n",
       "성북구      4\n",
       "동대문구     4\n",
       "광진구      3\n",
       "중구       3\n",
       "종로구      3\n",
       "기타       2\n",
       "Name: count, dtype: int64"
      ]
     },
     "execution_count": 56,
     "metadata": {},
     "output_type": "execute_result"
    }
   ],
   "source": [
    "top = corona_out_region[corona_out_region[\"month\"]==\"6\"]['지역'].value_counts()\n",
    "top"
   ]
  },
  {
   "cell_type": "code",
   "execution_count": 57,
   "metadata": {
    "id": "_uuqYSbbwUB1"
   },
   "outputs": [],
   "source": [
    "# 6월에 확진자가 가장 많이 나온 지역을 구하여 quiz_2 변수에 저장합니다.\n",
    "# 문자형으로 저장합니다.\n",
    "quiz_2 = \"관악구\""
   ]
  },
  {
   "cell_type": "markdown",
   "metadata": {
    "id": "Ox1MnSSlwUB1"
   },
   "source": [
    " ---"
   ]
  },
  {
   "cell_type": "markdown",
   "metadata": {},
   "source": [
    "## 제출하기"
   ]
  },
  {
   "cell_type": "markdown",
   "metadata": {
    "id": "Ap5bme4lwUB6"
   },
   "source": [
    "퀴즈 1번과 2번을 수행 후, 아래 코드를 실행하면 `quiz_1 ~ 2` 변수가 저장된 json 파일을 제작하여 채점을 받을 수 있습니다.\n",
    "\n",
    "**아래 코드를 수정하면 채점이 불가능 합니다.**"
   ]
  },
  {
   "cell_type": "code",
   "execution_count": null,
   "metadata": {},
   "outputs": [],
   "source": [
    "import json\n",
    "\n",
    "student_answers = {}\n",
    "student_answers[\"problem_1\"] = quiz_1\n",
    "student_answers[\"problem_2\"] = quiz_2\n",
    "\n",
    "with open(\"result.json\", \"w\") as f:\n",
    "    json.dump(student_answers, f)"
   ]
  },
  {
   "cell_type": "markdown",
   "metadata": {
    "id": "ftNAFdz7wUB7"
   },
   "source": [
    "---"
   ]
  },
  {
   "cell_type": "markdown",
   "metadata": {
    "id": "vqQPeXc_wUB7"
   },
   "source": [
    "<span style=\"color:rgb(120, 120, 120)\">본 학습 자료를 포함한 사이트 내 모든 자료의 저작권은 엘리스에 있으며 외부로의 무단 복제, 배포 및 전송을 불허합니다.\n",
    "\n",
    "Copyright @ elice all rights reserved</span>"
   ]
  }
 ],
 "metadata": {
  "colab": {
   "name": "[p1] 코로나 데이터 분석 프로젝트-정답.ipynb",
   "provenance": []
  },
  "kernelspec": {
   "display_name": "Python 3 (ipykernel)",
   "language": "python",
   "name": "python3"
  },
  "language_info": {
   "codemirror_mode": {
    "name": "ipython",
    "version": 3
   },
   "file_extension": ".py",
   "mimetype": "text/x-python",
   "name": "python",
   "nbconvert_exporter": "python",
   "pygments_lexer": "ipython3",
   "version": "3.10.13"
  },
  "toc": {
   "base_numbering": 1,
   "nav_menu": {},
   "number_sections": false,
   "sideBar": true,
   "skip_h1_title": false,
   "title_cell": "Table of Contents",
   "title_sidebar": "Contents",
   "toc_cell": false,
   "toc_position": {
    "height": "calc(100% - 180px)",
    "left": "10px",
    "top": "150px",
    "width": "307.2px"
   },
   "toc_section_display": true,
   "toc_window_display": true
  }
 },
 "nbformat": 4,
 "nbformat_minor": 1
}
